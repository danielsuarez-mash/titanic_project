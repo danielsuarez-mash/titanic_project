{
 "cells": [
  {
   "cell_type": "markdown",
   "id": "cad8d055-c719-41ee-89a5-e44d59f67aad",
   "metadata": {},
   "source": [
    "# Titanic\n",
    "\n",
    "This notebook is to explore the titanic dataset and produce a machine learning model that can predict which passengers survived or not depending on various features."
   ]
  },
  {
   "cell_type": "markdown",
   "id": "a4ca9f60-0b96-41d0-a866-ee0f77ffdb2d",
   "metadata": {
    "tags": []
   },
   "source": [
    "# Data preparation"
   ]
  },
  {
   "cell_type": "markdown",
   "id": "d4ad34aa-4324-4ad3-8707-6d3aed851e76",
   "metadata": {},
   "source": [
    "**Option 1:**"
   ]
  },
  {
   "cell_type": "code",
   "execution_count": 2,
   "id": "4fc7c8fb-264b-4776-a5f0-c88f24dbd1c1",
   "metadata": {},
   "outputs": [
    {
     "name": "stdout",
     "output_type": "stream",
     "text": [
      "Warning: Your Kaggle API key is readable by other users on this system! To fix this, you can run 'chmod 600 /Users/danielsuarez-mash/.kaggle/kaggle.json'\n"
     ]
    }
   ],
   "source": [
    "# import packages\n",
    "import pandas as pd\n",
    "import numpy as np\n",
    "import matplotlib\n",
    "import matplotlib.pyplot as plt\n",
    "import zipfile\n",
    "import seaborn as sn\n",
    "import sqlalchemy\n",
    "import seaborn as sns\n",
    "%matplotlib inline\n",
    "\n",
    "# set chart style\n",
    "# plt.style.use('ggplot')\n",
    "\n",
    "# Kaggle submission tools\n",
    "from kaggle.api.kaggle_api_extended import KaggleApi\n",
    "api = KaggleApi()\n",
    "api.authenticate()\n",
    "\n",
    "# create database engine\n",
    "engine = sqlalchemy.create_engine(\n",
    "    url = 'postgresql://danielsuarez-mash@localhost/titanic_project?'\n",
    ")\n",
    "\n",
    "train = pd.read_sql('SELECT * FROM train', engine)\n",
    "test = pd.read_sql('SELECT * FROM test', engine)\n",
    "eg_submission = pd.read_sql('SELECT * FROM gender_submission', engine)"
   ]
  },
  {
   "cell_type": "markdown",
   "id": "0316e325-a24c-4365-a667-2ca2af1835c2",
   "metadata": {},
   "source": [
    "**Option 2:**"
   ]
  },
  {
   "cell_type": "code",
   "execution_count": 3,
   "id": "9b277c65-38a1-481f-8a01-070298086386",
   "metadata": {},
   "outputs": [],
   "source": [
    "# # download competition data\n",
    "# api.competition_download_files('titanic')\n",
    "\n",
    "# # get datasets\n",
    "# with zipfile.ZipFile(file = 'titanic.zip') as my_zip:\n",
    "#     with my_zip.open(name = 'train.csv') as train_file:\n",
    "#         train = pd.read_csv(train_file)\n",
    "#     with my_zip.open(name = 'test.csv') as test_file:\n",
    "#         test = pd.read_csv(test_file)\n",
    "#     with my_zip.open(name = 'gender_submission.csv') as gender_sub:\n",
    "#         eg_submission = pd.read_csv(gender_sub)"
   ]
  },
  {
   "cell_type": "markdown",
   "id": "6f6b6d9f-8308-4605-8dc9-8618a221753e",
   "metadata": {},
   "source": [
    "# Exploratory Data Analysis"
   ]
  },
  {
   "cell_type": "code",
   "execution_count": 4,
   "id": "1d628c01-15d3-4f5f-8d48-35b726635a6d",
   "metadata": {},
   "outputs": [
    {
     "data": {
      "text/html": [
       "<div>\n",
       "<style scoped>\n",
       "    .dataframe tbody tr th:only-of-type {\n",
       "        vertical-align: middle;\n",
       "    }\n",
       "\n",
       "    .dataframe tbody tr th {\n",
       "        vertical-align: top;\n",
       "    }\n",
       "\n",
       "    .dataframe thead th {\n",
       "        text-align: right;\n",
       "    }\n",
       "</style>\n",
       "<table border=\"1\" class=\"dataframe\">\n",
       "  <thead>\n",
       "    <tr style=\"text-align: right;\">\n",
       "      <th></th>\n",
       "      <th>passengerid</th>\n",
       "      <th>survived</th>\n",
       "      <th>pclass</th>\n",
       "      <th>name</th>\n",
       "      <th>sex</th>\n",
       "      <th>age</th>\n",
       "      <th>sibsp</th>\n",
       "      <th>parch</th>\n",
       "      <th>ticket</th>\n",
       "      <th>fare</th>\n",
       "      <th>cabin</th>\n",
       "      <th>embarked</th>\n",
       "    </tr>\n",
       "  </thead>\n",
       "  <tbody>\n",
       "    <tr>\n",
       "      <th>0</th>\n",
       "      <td>1</td>\n",
       "      <td>0</td>\n",
       "      <td>3</td>\n",
       "      <td>Braund, Mr. Owen Harris</td>\n",
       "      <td>male</td>\n",
       "      <td>22.0</td>\n",
       "      <td>1.0</td>\n",
       "      <td>0.0</td>\n",
       "      <td>A/5 21171</td>\n",
       "      <td>7.2500</td>\n",
       "      <td>None</td>\n",
       "      <td>S</td>\n",
       "    </tr>\n",
       "    <tr>\n",
       "      <th>1</th>\n",
       "      <td>2</td>\n",
       "      <td>1</td>\n",
       "      <td>1</td>\n",
       "      <td>Cumings, Mrs. John Bradley (Florence Briggs Th...</td>\n",
       "      <td>female</td>\n",
       "      <td>38.0</td>\n",
       "      <td>1.0</td>\n",
       "      <td>0.0</td>\n",
       "      <td>PC 17599</td>\n",
       "      <td>71.2833</td>\n",
       "      <td>C85</td>\n",
       "      <td>C</td>\n",
       "    </tr>\n",
       "    <tr>\n",
       "      <th>2</th>\n",
       "      <td>3</td>\n",
       "      <td>1</td>\n",
       "      <td>3</td>\n",
       "      <td>Heikkinen, Miss. Laina</td>\n",
       "      <td>female</td>\n",
       "      <td>26.0</td>\n",
       "      <td>0.0</td>\n",
       "      <td>0.0</td>\n",
       "      <td>STON/O2. 3101282</td>\n",
       "      <td>7.9250</td>\n",
       "      <td>None</td>\n",
       "      <td>S</td>\n",
       "    </tr>\n",
       "    <tr>\n",
       "      <th>3</th>\n",
       "      <td>4</td>\n",
       "      <td>1</td>\n",
       "      <td>1</td>\n",
       "      <td>Futrelle, Mrs. Jacques Heath (Lily May Peel)</td>\n",
       "      <td>female</td>\n",
       "      <td>35.0</td>\n",
       "      <td>1.0</td>\n",
       "      <td>0.0</td>\n",
       "      <td>113803</td>\n",
       "      <td>53.1000</td>\n",
       "      <td>C123</td>\n",
       "      <td>S</td>\n",
       "    </tr>\n",
       "    <tr>\n",
       "      <th>4</th>\n",
       "      <td>5</td>\n",
       "      <td>0</td>\n",
       "      <td>3</td>\n",
       "      <td>Allen, Mr. William Henry</td>\n",
       "      <td>male</td>\n",
       "      <td>35.0</td>\n",
       "      <td>0.0</td>\n",
       "      <td>0.0</td>\n",
       "      <td>373450</td>\n",
       "      <td>8.0500</td>\n",
       "      <td>None</td>\n",
       "      <td>S</td>\n",
       "    </tr>\n",
       "  </tbody>\n",
       "</table>\n",
       "</div>"
      ],
      "text/plain": [
       "   passengerid  survived  pclass  \\\n",
       "0            1         0       3   \n",
       "1            2         1       1   \n",
       "2            3         1       3   \n",
       "3            4         1       1   \n",
       "4            5         0       3   \n",
       "\n",
       "                                                name     sex   age  sibsp  \\\n",
       "0                            Braund, Mr. Owen Harris    male  22.0    1.0   \n",
       "1  Cumings, Mrs. John Bradley (Florence Briggs Th...  female  38.0    1.0   \n",
       "2                             Heikkinen, Miss. Laina  female  26.0    0.0   \n",
       "3       Futrelle, Mrs. Jacques Heath (Lily May Peel)  female  35.0    1.0   \n",
       "4                           Allen, Mr. William Henry    male  35.0    0.0   \n",
       "\n",
       "   parch            ticket     fare cabin embarked  \n",
       "0    0.0         A/5 21171   7.2500  None        S  \n",
       "1    0.0          PC 17599  71.2833   C85        C  \n",
       "2    0.0  STON/O2. 3101282   7.9250  None        S  \n",
       "3    0.0            113803  53.1000  C123        S  \n",
       "4    0.0            373450   8.0500  None        S  "
      ]
     },
     "execution_count": 4,
     "metadata": {},
     "output_type": "execute_result"
    }
   ],
   "source": [
    "train_copy = train.copy()\n",
    "test_copy = test.copy()\n",
    "train_copy.head()"
   ]
  },
  {
   "cell_type": "code",
   "execution_count": 5,
   "id": "833c2c2c-be7e-4b74-910f-ba39a1ed199b",
   "metadata": {},
   "outputs": [
    {
     "name": "stdout",
     "output_type": "stream",
     "text": [
      "<class 'pandas.core.frame.DataFrame'>\n",
      "RangeIndex: 891 entries, 0 to 890\n",
      "Data columns (total 12 columns):\n",
      " #   Column       Non-Null Count  Dtype  \n",
      "---  ------       --------------  -----  \n",
      " 0   passengerid  891 non-null    int64  \n",
      " 1   survived     891 non-null    int64  \n",
      " 2   pclass       891 non-null    int64  \n",
      " 3   name         891 non-null    object \n",
      " 4   sex          891 non-null    object \n",
      " 5   age          714 non-null    float64\n",
      " 6   sibsp        891 non-null    float64\n",
      " 7   parch        891 non-null    float64\n",
      " 8   ticket       891 non-null    object \n",
      " 9   fare         891 non-null    float64\n",
      " 10  cabin        204 non-null    object \n",
      " 11  embarked     889 non-null    object \n",
      "dtypes: float64(4), int64(3), object(5)\n",
      "memory usage: 83.7+ KB\n",
      "None\n",
      "****************************************************************************************************\n",
      "<class 'pandas.core.frame.DataFrame'>\n",
      "RangeIndex: 418 entries, 0 to 417\n",
      "Data columns (total 11 columns):\n",
      " #   Column       Non-Null Count  Dtype  \n",
      "---  ------       --------------  -----  \n",
      " 0   passengerid  418 non-null    int64  \n",
      " 1   pclass       418 non-null    int64  \n",
      " 2   name         418 non-null    object \n",
      " 3   sex          418 non-null    object \n",
      " 4   age          332 non-null    float64\n",
      " 5   sibsp        418 non-null    float64\n",
      " 6   parch        418 non-null    float64\n",
      " 7   ticket       418 non-null    object \n",
      " 8   fare         417 non-null    float64\n",
      " 9   cabin        91 non-null     object \n",
      " 10  embarked     418 non-null    object \n",
      "dtypes: float64(4), int64(2), object(5)\n",
      "memory usage: 36.0+ KB\n",
      "None\n"
     ]
    }
   ],
   "source": [
    "print(train_copy.info())\n",
    "print('*'*100)\n",
    "print(test.info())"
   ]
  },
  {
   "cell_type": "code",
   "execution_count": 6,
   "id": "da8db577-a649-46e0-8d9e-6c80f38430d3",
   "metadata": {},
   "outputs": [
    {
     "data": {
      "text/html": [
       "<div>\n",
       "<style scoped>\n",
       "    .dataframe tbody tr th:only-of-type {\n",
       "        vertical-align: middle;\n",
       "    }\n",
       "\n",
       "    .dataframe tbody tr th {\n",
       "        vertical-align: top;\n",
       "    }\n",
       "\n",
       "    .dataframe thead th {\n",
       "        text-align: right;\n",
       "    }\n",
       "</style>\n",
       "<table border=\"1\" class=\"dataframe\">\n",
       "  <thead>\n",
       "    <tr style=\"text-align: right;\">\n",
       "      <th></th>\n",
       "      <th>passengerid</th>\n",
       "      <th>survived</th>\n",
       "      <th>pclass</th>\n",
       "      <th>age</th>\n",
       "      <th>sibsp</th>\n",
       "      <th>parch</th>\n",
       "      <th>fare</th>\n",
       "    </tr>\n",
       "  </thead>\n",
       "  <tbody>\n",
       "    <tr>\n",
       "      <th>count</th>\n",
       "      <td>891.000000</td>\n",
       "      <td>891.000000</td>\n",
       "      <td>891.000000</td>\n",
       "      <td>714.000000</td>\n",
       "      <td>891.000000</td>\n",
       "      <td>891.000000</td>\n",
       "      <td>891.000000</td>\n",
       "    </tr>\n",
       "    <tr>\n",
       "      <th>mean</th>\n",
       "      <td>446.000000</td>\n",
       "      <td>0.383838</td>\n",
       "      <td>2.308642</td>\n",
       "      <td>29.699118</td>\n",
       "      <td>0.523008</td>\n",
       "      <td>0.381594</td>\n",
       "      <td>32.204208</td>\n",
       "    </tr>\n",
       "    <tr>\n",
       "      <th>std</th>\n",
       "      <td>257.353842</td>\n",
       "      <td>0.486592</td>\n",
       "      <td>0.836071</td>\n",
       "      <td>14.526497</td>\n",
       "      <td>1.102743</td>\n",
       "      <td>0.806057</td>\n",
       "      <td>49.693429</td>\n",
       "    </tr>\n",
       "    <tr>\n",
       "      <th>min</th>\n",
       "      <td>1.000000</td>\n",
       "      <td>0.000000</td>\n",
       "      <td>1.000000</td>\n",
       "      <td>0.420000</td>\n",
       "      <td>0.000000</td>\n",
       "      <td>0.000000</td>\n",
       "      <td>0.000000</td>\n",
       "    </tr>\n",
       "    <tr>\n",
       "      <th>25%</th>\n",
       "      <td>223.500000</td>\n",
       "      <td>0.000000</td>\n",
       "      <td>2.000000</td>\n",
       "      <td>20.125000</td>\n",
       "      <td>0.000000</td>\n",
       "      <td>0.000000</td>\n",
       "      <td>7.910400</td>\n",
       "    </tr>\n",
       "    <tr>\n",
       "      <th>50%</th>\n",
       "      <td>446.000000</td>\n",
       "      <td>0.000000</td>\n",
       "      <td>3.000000</td>\n",
       "      <td>28.000000</td>\n",
       "      <td>0.000000</td>\n",
       "      <td>0.000000</td>\n",
       "      <td>14.454200</td>\n",
       "    </tr>\n",
       "    <tr>\n",
       "      <th>75%</th>\n",
       "      <td>668.500000</td>\n",
       "      <td>1.000000</td>\n",
       "      <td>3.000000</td>\n",
       "      <td>38.000000</td>\n",
       "      <td>1.000000</td>\n",
       "      <td>0.000000</td>\n",
       "      <td>31.000000</td>\n",
       "    </tr>\n",
       "    <tr>\n",
       "      <th>max</th>\n",
       "      <td>891.000000</td>\n",
       "      <td>1.000000</td>\n",
       "      <td>3.000000</td>\n",
       "      <td>80.000000</td>\n",
       "      <td>8.000000</td>\n",
       "      <td>6.000000</td>\n",
       "      <td>512.329200</td>\n",
       "    </tr>\n",
       "  </tbody>\n",
       "</table>\n",
       "</div>"
      ],
      "text/plain": [
       "       passengerid    survived      pclass         age       sibsp  \\\n",
       "count   891.000000  891.000000  891.000000  714.000000  891.000000   \n",
       "mean    446.000000    0.383838    2.308642   29.699118    0.523008   \n",
       "std     257.353842    0.486592    0.836071   14.526497    1.102743   \n",
       "min       1.000000    0.000000    1.000000    0.420000    0.000000   \n",
       "25%     223.500000    0.000000    2.000000   20.125000    0.000000   \n",
       "50%     446.000000    0.000000    3.000000   28.000000    0.000000   \n",
       "75%     668.500000    1.000000    3.000000   38.000000    1.000000   \n",
       "max     891.000000    1.000000    3.000000   80.000000    8.000000   \n",
       "\n",
       "            parch        fare  \n",
       "count  891.000000  891.000000  \n",
       "mean     0.381594   32.204208  \n",
       "std      0.806057   49.693429  \n",
       "min      0.000000    0.000000  \n",
       "25%      0.000000    7.910400  \n",
       "50%      0.000000   14.454200  \n",
       "75%      0.000000   31.000000  \n",
       "max      6.000000  512.329200  "
      ]
     },
     "execution_count": 6,
     "metadata": {},
     "output_type": "execute_result"
    }
   ],
   "source": [
    "train_copy.describe()"
   ]
  },
  {
   "cell_type": "markdown",
   "id": "37c23e78-cc4e-4b30-997f-4b84e0d2e581",
   "metadata": {},
   "source": [
    "## EDA Objectives\n",
    "\n",
    "1. What features are useful for helping to predict survival?\n",
    "2. Are there any data quality issues?\n",
    "3. Are there any opportunities to engineer new features?"
   ]
  },
  {
   "cell_type": "code",
   "execution_count": 7,
   "id": "a4555624-968a-4364-bc95-de71eaf94ff1",
   "metadata": {},
   "outputs": [
    {
     "data": {
      "text/plain": [
       "Text(0.5, 0, 'Survived (0 false, 1 true)')"
      ]
     },
     "execution_count": 7,
     "metadata": {},
     "output_type": "execute_result"
    },
    {
     "data": {
      "image/png": "[encoded data removed]",
      "text/plain": [
       "<Figure size 648x504 with 1 Axes>"
      ]
     },
     "metadata": {
      "needs_background": "light"
     },
     "output_type": "display_data"
    }
   ],
   "source": [
    "train_copy['survived'].value_counts().plot(kind = 'bar', figsize = (9, 7))\n",
    "plt.title('Survived Breakdown')\n",
    "plt.ylabel('Number of Passengers')\n",
    "plt.xlabel('Survived (0 false, 1 true)')"
   ]
  },
  {
   "cell_type": "markdown",
   "id": "67dcf86f-fa22-4a05-a238-8ca31bb20c17",
   "metadata": {},
   "source": [
    "## Part 1: What columns are useful for helping to predict survival?"
   ]
  },
  {
   "cell_type": "markdown",
   "id": "b74b2e39-3434-42a3-a5dd-b023a07b2983",
   "metadata": {
    "tags": []
   },
   "source": [
    "### Pclass (Passenger Class)\n"
   ]
  },
  {
   "cell_type": "code",
   "execution_count": 8,
   "id": "84e4c23a-de35-45ed-8785-4e41255d056a",
   "metadata": {},
   "outputs": [
    {
     "data": {
      "text/plain": [
       "<matplotlib.legend.Legend at 0x7f87a98d9d30>"
      ]
     },
     "execution_count": 8,
     "metadata": {},
     "output_type": "execute_result"
    },
    {
     "data": {
      "image/png": "[encoded data removed]",
      "text/plain": [
       "<Figure size 2160x720 with 4 Axes>"
      ]
     },
     "metadata": {
      "needs_background": "light"
     },
     "output_type": "display_data"
    }
   ],
   "source": [
    "# group by\n",
    "data = train_copy.groupby(['pclass', 'survived']).passengerid.count().unstack()\n",
    "\n",
    "# set up figure and axes\n",
    "figure, (ax, ax1, ax2, ax3) = plt.subplots(1, 4, figsize = (30,10))\n",
    "\n",
    "####### BAR CHART #######\n",
    "\n",
    "x = np.array([1, 2, 3]) # set passenger classes as x-axis\n",
    "width = 0.35 # width of bars\n",
    "\n",
    "bars_1 = ax.bar(x = x-width/2, height = data[0], width = width, label = 'Did Not Survive') # first set of bars\n",
    "bars_2 = ax.bar(x = x+width/2, height = data[1], width = width, label = 'Survived') # second set of bars\n",
    "\n",
    "ax.set_xticks(ticks = x) # make sure only pclasses are shown on x-axes\n",
    "ax.set_xlabel('Passenger Class')\n",
    "ax.set_ylabel('Number of Passengers')\n",
    "ax.bar_label(container=bars_1, labels = data[0]) # label 1st set of bars\n",
    "ax.bar_label(container=bars_2, labels = data[1]) # label 2nd set of bars\n",
    "ax.legend()\n",
    "\n",
    "####### PIE CHARTS ########\n",
    "\n",
    "# survival rate for pclass 1\n",
    "pclass1 = train_copy[train_copy['pclass'] == 1].groupby('survived').passengerid.count()\n",
    "pclass1.plot.pie(ax = ax1, radius=1, autopct='%.0f%%', labels = ['Did Not Survive', 'Survived'])\n",
    "ax1.set_title('Passenger Class 1 survival rate')\n",
    "ax1.set_ylabel('% of Passengers')\n",
    "ax1.legend()\n",
    "\n",
    "# survival rate for pclass 2\n",
    "pclass2 = train_copy[train_copy['pclass'] == 2].groupby('survived').passengerid.count()\n",
    "pclass2.plot.pie(ax = ax2, radius=1, autopct='%.0f%%', labels = ['Did Not Survive', 'Survived'])\n",
    "ax2.set_title('Passenger Class 2 survival rate')\n",
    "ax2.set_ylabel('% of Passengers')\n",
    "ax2.legend()\n",
    "\n",
    "# survival rate for pclass 3\n",
    "pclass3 = train_copy[train_copy['pclass'] == 3].groupby('survived').passengerid.count()\n",
    "pclass3.plot.pie(ax = ax3, radius=1, autopct='%.0f%%', labels = ['Did Not Survive', 'Survived'])\n",
    "ax3.set_title('Passenger Class 3 survival rate')\n",
    "ax3.set_ylabel('% of Passengers')\n",
    "ax3.legend()"
   ]
  },
  {
   "cell_type": "markdown",
   "id": "e57efd9d-aa2a-420b-a4b9-30386306c43a",
   "metadata": {},
   "source": [
    "1. Is Pclass a good feature we can use to predict survival?\n",
    "\n",
    "From the charts above, we can see **a large number of passengers in class 3 did not survive**. In fact, the proportion of passengers which survived rises with the class they were in. One assumption we could make then is that wealthier passengers with a 1st class ticket were prioritised in some way during the evacuation. But we should investigate this.\n",
    "\n",
    "- **Investigate whether there really is an association between passenger class and survival. Or is passenger class a proxy for another more influential factor. For example, were passengers in Pclass 1 higher up on the boat and/or closer to lifeboats?**\n",
    " \n",
    "    \n",
    "2. Are there any data quality issues with Pclass?\n",
    "\n",
    "No missing values in both training or testing datasets. ***To interrogate the feature for any incorrect data, we could investigate the fare distribution for each Passenger Class.***\n",
    "\n",
    "3. Are there any opportunities to data engineer new features?\n",
    "\n",
    "Passenger Class is a simple categorical feature which no other information which we can extract. However, it will be worth investigating any co-linearities (correlation) with other features. I'm going to suspect that this feature is associated with the fare feature. \n",
    "\n",
    "- **Investigate whether pclass is correlated with fare and if there are any opportunities to combine these features together.**"
   ]
  },
  {
   "cell_type": "markdown",
   "id": "c0b71bb7-5d99-46ea-a99c-e03170feb011",
   "metadata": {
    "tags": []
   },
   "source": [
    "### Name\n",
    "\n",
    "Names are inherently difficult to analyse given that they are all completely unique. However, there are some similarities between names, in particular: titles. This is something we will explore here."
   ]
  },
  {
   "cell_type": "code",
   "execution_count": 9,
   "id": "ce38501a-9407-412e-a25c-d5d552d86550",
   "metadata": {},
   "outputs": [
    {
     "data": {
      "text/plain": [
       "0                                Braund, Mr. Owen Harris\n",
       "1      Cumings, Mrs. John Bradley (Florence Briggs Th...\n",
       "2                                 Heikkinen, Miss. Laina\n",
       "3           Futrelle, Mrs. Jacques Heath (Lily May Peel)\n",
       "4                               Allen, Mr. William Henry\n",
       "                             ...                        \n",
       "886                                Montvila, Rev. Juozas\n",
       "887                         Graham, Miss. Margaret Edith\n",
       "888             Johnston, Miss. Catherine Helen \"Carrie\"\n",
       "889                                Behr, Mr. Karl Howell\n",
       "890                                  Dooley, Mr. Patrick\n",
       "Name: name, Length: 891, dtype: object"
      ]
     },
     "execution_count": 9,
     "metadata": {},
     "output_type": "execute_result"
    }
   ],
   "source": [
    "train_copy['name']"
   ]
  },
  {
   "cell_type": "code",
   "execution_count": 10,
   "id": "446870f5-066c-4cdb-8903-73df020990ee",
   "metadata": {},
   "outputs": [
    {
     "data": {
      "text/plain": [
       " Mr              517\n",
       " Miss            182\n",
       " Mrs             125\n",
       " Master           40\n",
       " Dr                7\n",
       " Rev               6\n",
       " Mlle              2\n",
       " Major             2\n",
       " Col               2\n",
       " the Countess      1\n",
       " Capt              1\n",
       " Ms                1\n",
       " Sir               1\n",
       " Lady              1\n",
       " Mme               1\n",
       " Don               1\n",
       " Jonkheer          1\n",
       "Name: title, dtype: int64"
      ]
     },
     "execution_count": 10,
     "metadata": {},
     "output_type": "execute_result"
    }
   ],
   "source": [
    "# build title column\n",
    "train_copy['title'] = train_copy['name'].str.split(pat = ',').apply(lambda x: x[1].split('.')[0])\n",
    "train_copy['title'].value_counts()"
   ]
  },
  {
   "cell_type": "code",
   "execution_count": 11,
   "id": "c777cc54-380a-4121-9a02-0d1e7818a40b",
   "metadata": {},
   "outputs": [
    {
     "data": {
      "text/plain": [
       " Mr        240\n",
       " Miss       78\n",
       " Mrs        72\n",
       " Master     21\n",
       " Col         2\n",
       " Rev         2\n",
       " Ms          1\n",
       " Dr          1\n",
       " Dona        1\n",
       "Name: title, dtype: int64"
      ]
     },
     "execution_count": 11,
     "metadata": {},
     "output_type": "execute_result"
    }
   ],
   "source": [
    "# build title column\n",
    "test_copy['title'] = test_copy['name'].str.split(pat = ',').apply(lambda x: x[1].split('.')[0])\n",
    "test_copy['title'].value_counts()"
   ]
  },
  {
   "cell_type": "markdown",
   "id": "0f86fd32-e67a-4b86-aecb-457a8e7dcfdf",
   "metadata": {},
   "source": [
    "### NEW FEATURE: Title Group"
   ]
  },
  {
   "cell_type": "code",
   "execution_count": 12,
   "id": "0578cfe5-dd87-419d-bc7d-ee64f5a06873",
   "metadata": {},
   "outputs": [
    {
     "data": {
      "text/plain": [
       " Mr                 517\n",
       "Unmarried female    184\n",
       "Married female      126\n",
       "Rare                 64\n",
       "Name: title_group, dtype: int64"
      ]
     },
     "execution_count": 12,
     "metadata": {},
     "output_type": "execute_result"
    }
   ],
   "source": [
    "# let's group some titles together\n",
    "train_copy['title_group'] = train_copy['title']\n",
    "train_copy['title_group'].replace(to_replace = [' Miss', ' Mlle'], value = 'Unmarried female', inplace = True)\n",
    "train_copy['title_group'].replace(to_replace = [' Mrs', ' Mme'], value = 'Married female', inplace = True)\n",
    "train_copy['title_group'].replace(to_replace = [' Master', ' Dr', ' Rev', ' Major', ' Col', ' Don', ' Ms', \n",
    "                                                ' Lady', ' Sir', ' Capt', ' the Countess', ' Jonkheer', ' Dona'], \n",
    "                                                  value = 'Rare', inplace = True)\n",
    "train_copy['title_group'].value_counts()"
   ]
  },
  {
   "cell_type": "code",
   "execution_count": 13,
   "id": "d3714bfa-a9bf-4a3b-962a-3343f836ecea",
   "metadata": {},
   "outputs": [
    {
     "data": {
      "text/plain": [
       "<seaborn.axisgrid.FacetGrid at 0x7f87ba69e6a0>"
      ]
     },
     "execution_count": 13,
     "metadata": {},
     "output_type": "execute_result"
    },
    {
     "data": {
      "image/png": "[encoded data removed]",
      "text/plain": [
       "<Figure size 360x360 with 1 Axes>"
      ]
     },
     "metadata": {
      "needs_background": "light"
     },
     "output_type": "display_data"
    }
   ],
   "source": [
    "# factorplot\n",
    "sns.catplot(data = train_copy, x = 'title_group', y = 'survived', kind = 'bar')"
   ]
  },
  {
   "cell_type": "markdown",
   "id": "0c1cadae-e774-48ef-974c-3e62bfadacef",
   "metadata": {},
   "source": [
    "***Notes***\n",
    "\n",
    "Above we learn that married females did have a higher survival rate than unmarried females, which is probably in line with the assumption that there are more married females who are also mothers. Given the stark difference in survival rates, it is a useful feature which would help the ML model determine who survived and who didn't."
   ]
  },
  {
   "cell_type": "markdown",
   "id": "8c9a9c8f-ef5f-4b79-a3bd-5a30e55266fb",
   "metadata": {},
   "source": [
    "### Sex"
   ]
  },
  {
   "cell_type": "code",
   "execution_count": 14,
   "id": "e2f99bfd-6f09-44a2-ab67-42d8ed70590f",
   "metadata": {},
   "outputs": [
    {
     "data": {
      "text/plain": [
       "Text(0, 0.5, '% of Passengers')"
      ]
     },
     "execution_count": 14,
     "metadata": {},
     "output_type": "execute_result"
    },
    {
     "data": {
      "image/png": "[encoded data removed]",
      "text/plain": [
       "<Figure size 1800x576 with 3 Axes>"
      ]
     },
     "metadata": {
      "needs_background": "light"
     },
     "output_type": "display_data"
    }
   ],
   "source": [
    "# group by\n",
    "data = train_copy.groupby(['sex', 'survived']).passengerid.count().unstack()\n",
    "\n",
    "# set up figure\n",
    "figure, (ax, ax1, ax2) = plt.subplots(1, 3, figsize = (25,8))\n",
    "\n",
    "####### BAR CHART #######\n",
    "\n",
    "x = np.array([0, 1])\n",
    "width = 0.35\n",
    "\n",
    "bars_nsrv = ax.bar(x = x-width/2, height = data[0], width = width, label = 'Did Not Survive')\n",
    "bars_srv = ax.bar(x = x+width/2, height = data[1], width = width, label = 'Survived')\n",
    "ax.set_xticks(ticks = x, labels = ['female', 'male'])\n",
    "ax.bar_label(container = bars_nsrv, labels = data[0])\n",
    "ax.bar_label(container = bars_srv, labels = data[1])\n",
    "ax.legend()\n",
    "\n",
    "####### PIE CHARTS #######\n",
    "\n",
    "# survival rate for pclass 1\n",
    "male = train_copy[train_copy['sex'] == 'male'].groupby('survived').passengerid.count()\n",
    "male.plot.pie(ax = ax1, radius=1, autopct='%.0f%%')\n",
    "ax1.set_title('Male survival rate')\n",
    "ax1.set_ylabel('% of Passengers')\n",
    "\n",
    "# survival rate for pclass 2\n",
    "female = train_copy[train_copy['sex'] == 'female'].groupby('survived').passengerid.count()\n",
    "female.plot.pie(ax = ax2, radius=1, autopct='%.0f%%')\n",
    "ax2.set_title('Female survival rate')\n",
    "ax2.set_ylabel('% of Passengers')"
   ]
  },
  {
   "cell_type": "markdown",
   "id": "375484f6-6286-434a-882e-41cb88b80f53",
   "metadata": {},
   "source": [
    "1. Is this a useful feature for helping to predict survival?\n",
    "\n",
    "Yes, I'm going to assume females were prioritised during the evacuation. However we should investigate this.\n",
    "\n",
    "- ***We should investigate the female group to see how they make up other features. For example, do they all sit in one age group? Do they all belong to one Passenger Class? Did a lot of them have children?***\n",
    "\n",
    "2. Are there any data quality issues?\n",
    "\n",
    "No missing values in either dataset. However, there are less females than males but not by much. It's worth noting that ML models can't learn a pattern from few examples and so we need sufficient amounts of data to allow our ML model to learn. There are sufficient female data points here to not consider any resampling techniques.\n",
    "\n",
    "3. Are there any opportunities to engineer new features?\n",
    "\n",
    "Not really. Sex is, again, a simple categorical feature with no extra info we can extract."
   ]
  },
  {
   "cell_type": "markdown",
   "id": "e36bcd16-b744-4cfe-a977-83aeeca7f09f",
   "metadata": {},
   "source": [
    "### Age"
   ]
  },
  {
   "cell_type": "code",
   "execution_count": 15,
   "id": "b4a69ea9-2b57-4e53-bb3c-7627ca42285c",
   "metadata": {},
   "outputs": [
    {
     "data": {
      "text/plain": [
       "Text(0.5, 0, 'Age Group')"
      ]
     },
     "execution_count": 15,
     "metadata": {},
     "output_type": "execute_result"
    },
    {
     "data": {
      "image/png": "[encoded data removed]",
      "text/plain": [
       "<Figure size 1800x1080 with 2 Axes>"
      ]
     },
     "metadata": {
      "needs_background": "light"
     },
     "output_type": "display_data"
    }
   ],
   "source": [
    "# set up figure\n",
    "figure, (ax1, ax2) = plt.subplots(2, 1, figsize = (25, 15))\n",
    "\n",
    "# set bins\n",
    "age_bins = np.arange(start = 0, stop = 100, step = 1)\n",
    "xticks = np.arange(start = 0, stop = 100, step = 10)\n",
    "yticks = np.arange(start = 0, stop = 22, step = 1)\n",
    "\n",
    "######## AGE DISTRIBUTION CHART #########\n",
    "sns.histplot(data = train_copy, x = 'age', hue = 'survived', kde = True, bins = age_bins, ax = ax1)\n",
    "ax1.axvline(x = 16, color = 'green', linestyle = '--')\n",
    "ax1.set_title('Age Distribution')\n",
    "ax1.set_xlabel('Age')\n",
    "ax1.set_ylabel('Number of Passengers')\n",
    "ax1.set_xticks(ticks = xticks)\n",
    "ax1.set_yticks(ticks = yticks);\n",
    "\n",
    "######## SURVIVAL RATE BY AGE GROUP BAR CHART #########\n",
    "age_groups = pd.IntervalIndex.from_arrays(left = (0, 7, 16, 30, 50),\n",
    "                                          right = (7, 16, 30, 50, 100))\n",
    "\n",
    "x = np.arange(0, 5, 1)\n",
    "\n",
    "train_copy['age_group'] = pd.cut(x = train_copy['age'], \n",
    "                            bins = age_groups, \n",
    "                            include_lowest = True)\n",
    "\n",
    "data = train_copy.groupby(['age_group', 'survived']).passengerid.count().unstack()\n",
    "not_surv_bar = ax2.bar(x = x-width/2, height = data[0], width = width, label = 'Did Not Survive')\n",
    "surv_bar = ax2.bar(x = x+width/2, height = data[1], width = width, label = 'Survived')\n",
    "ax2.legend()\n",
    "ax2.set_xticks(ticks = [0, 1, 2, 3, 4], labels = ['0 - 7 years old', '8 - 16 years old', '17 - 30 years old', '31 to 50 years old', '51 to 100 years old'])\n",
    "ax2.bar_label(container = not_surv_bar, labels = data[0])\n",
    "ax2.bar_label(container = surv_bar, labels = data[1])\n",
    "ax2.set_ylabel('Number of Passengers')\n",
    "ax2.set_xlabel('Age Group')"
   ]
  },
  {
   "cell_type": "markdown",
   "id": "3f6c257b-b256-4fb9-8d92-05ef663144b6",
   "metadata": {},
   "source": [
    "1. Is this a useful feature for helping to predict survival?\n",
    "\n",
    "Yes, as shown above, children and babies under roughly 16 years old were most likely prioritised and hence saw higher survival rates than any other age group. An even higher proportion of children under 7 years old survived. This is in line with what we would expect from human nature: prioritising the vulnerable and allowing the stronger to take on more risk.  \n",
    "\n",
    "- ***We should investigate to see whether there are any other reasons for a low survival rate amongst the 17-30 age group other than the fact they are more likely to be 'strong and healthy'. Was this group majority male? Was this group majority in passenger class 3?\n",
    "\n",
    "2. Are there any data quality issues?\n",
    "\n",
    "Yes, we have missing values in both datasets but not a huge amount. \n",
    "\n",
    "- ***Given that clearly a useful feature for predicting survival, we need to make sure we deal with missing values in the best way possible. If we use the mean to impute missing values and if the mean is in the (15-65) age group then we will be increasing the chance of a 'did not survive' prediction. We should see if the other features can help us determine somebody's age.***\n",
    "\n",
    "3. Are there any opportunities to engineer new features?\n",
    "\n",
    "We have already binned passengers into age groups which should summarise survival rates amongst different ages clearly."
   ]
  },
  {
   "cell_type": "markdown",
   "id": "d2c07d3e-bb57-4194-ae47-0253c1571425",
   "metadata": {},
   "source": [
    "### SibSp - Number of siblings/spouses"
   ]
  },
  {
   "cell_type": "code",
   "execution_count": 16,
   "id": "529e9640-0f37-42a0-9c8d-7712f20119e0",
   "metadata": {},
   "outputs": [
    {
     "data": {
      "text/plain": [
       "Text(0.5, 1.0, 'Survived by Number of Siblings/Spouses')"
      ]
     },
     "execution_count": 16,
     "metadata": {},
     "output_type": "execute_result"
    },
    {
     "data": {
      "image/png": "[encoded data removed]",
      "text/plain": [
       "<Figure size 1440x504 with 1 Axes>"
      ]
     },
     "metadata": {
      "needs_background": "light"
     },
     "output_type": "display_data"
    }
   ],
   "source": [
    "figure, ax1 = plt.subplots(1, figsize = (20, 7))\n",
    "\n",
    "data = train_copy.groupby(['sibsp', 'survived']).passengerid.count().unstack().plot(kind = 'bar', ax = ax1, stacked = True)\n",
    "ax1.set_ylabel('Passenger count')\n",
    "ax1.set_xlabel('Number of Siblings/Spouses')\n",
    "ax1.set_title('Survived by Number of Siblings/Spouses')"
   ]
  },
  {
   "cell_type": "markdown",
   "id": "5432dc32-1b59-49ca-a188-f8c6dbb5df76",
   "metadata": {},
   "source": [
    "1. Is this a useful predictor for survival?\n",
    "\n",
    "The majority of passengers did not have any siblings or spouses with them on the Titanic. The survival split in this group is equal to the overall survival split meaning that this group could be a representative sample of passengers onboard the Titanic. \n",
    "\n",
    "Just over 50% of those in group 1 survived. The survival rate in group 2 and beyond starts to fall. This pattern might be useful as a predictor for survival. So yes, this feature, with some feature engineering, could be a useful predictor. \n",
    "\n",
    "- ***Why does group 0 have a better survival rate than group 1? Were there more males in group 0? Did group 0 contain a more passengers between 15 and 65 years of age? Were there more passengers in Passenger Class 3 in group 0?***\n",
    "- ***Why do we see such low survival rates among group 3 and beyond? What type of passengers do we see in these groups?***\n",
    "\n",
    "2. Are there any data quality issues?\n",
    "\n",
    "No missing data for either dataset. However, there are not many passengers with 3 or more siblings/spouses which might make it hard for an ML model to learn from.\n",
    "\n",
    "3. Are there any opportunities for feature engineering?\n",
    "\n",
    "Yes, it might be a good idea to combine this feature with Parch to calculate family size."
   ]
  },
  {
   "cell_type": "markdown",
   "id": "67d335b3-862a-43a0-8c69-33301c498fbf",
   "metadata": {
    "tags": []
   },
   "source": [
    "### Parch - number of parents/children"
   ]
  },
  {
   "cell_type": "code",
   "execution_count": 17,
   "id": "ad0eeb2d-c172-4cad-a7ca-7308b4ed2a77",
   "metadata": {},
   "outputs": [
    {
     "data": {
      "text/plain": [
       "Text(0, 0.5, 'Survival Rate')"
      ]
     },
     "execution_count": 17,
     "metadata": {},
     "output_type": "execute_result"
    },
    {
     "data": {
      "image/png": "[encoded data removed]",
      "text/plain": [
       "<Figure size 1440x720 with 2 Axes>"
      ]
     },
     "metadata": {
      "needs_background": "light"
     },
     "output_type": "display_data"
    }
   ],
   "source": [
    "figure, (ax1, ax2) = plt.subplots(2, 1, figsize = (20, 10))\n",
    "\n",
    "sns.countplot(data = train_copy, x = 'parch', ax = ax1)\n",
    "ax1.set_ylabel('Number of Passengers')\n",
    "ax1.set_xlabel('Number of Parents/Children')\n",
    "ax1.set_title('Distribution of Number of Parents/Children')\n",
    "\n",
    "sns.barplot(data = train_copy, x = 'parch', y = 'survived', estimator = np.mean, ax = ax2)\n",
    "ax2.set_title('Survival Rate for Number of Parents/Children')\n",
    "ax2.set_xlabel('Number of Parents/Children')\n",
    "ax2.set_ylabel('Survival Rate')"
   ]
  },
  {
   "cell_type": "markdown",
   "id": "62da87d7-9da3-409e-88f7-b8a663b53c5e",
   "metadata": {},
   "source": [
    "1. Is this a good feature to predict survival?\n",
    "\n",
    "Similar to SibSp, the majority of passengers do not have any parents or children with them. The survival split in this group is also identical the overall titanic survival split meaning that this group could contain a representative sample of passengers onboard the titanic.\n",
    "\n",
    "The rate of survival increases in group 1, which is also similar to the SibSp feature. An assumption could be that there are a relatively higher number of mothers and daughters in this category. This might explain why the survival rate decreases for group 2, as this group would contain more fathers. \n",
    "\n",
    "- ***Investigate the make up of group 0, 1 and 2. What is the reason behind their difference in survival rate? Did group 1 have a better survival rate because of a combination of gender make up and very young children?***\n",
    "\n",
    "2. Are there any data quality issues?\n",
    "\n",
    "No missing values. There is imbalance between groups but not enough to be a concern for machine learning. However, there is a very small amount of passengers with 3 or more parents/children. One would assume that these passengers are parents with 3 or more children, but this needs to be verified.\n",
    "\n",
    "- ***Verify whether passengers in group 3 and above were all exclusively parents with 3 or more children.***"
   ]
  },
  {
   "cell_type": "markdown",
   "id": "bef8ff99-c2d5-4fcd-9f66-8e86520dff64",
   "metadata": {},
   "source": [
    "### NEW FEATURE: Family Size"
   ]
  },
  {
   "cell_type": "code",
   "execution_count": 18,
   "id": "9e82ae64-c1f5-4f96-99ce-a8b05065fcf9",
   "metadata": {},
   "outputs": [
    {
     "data": {
      "text/plain": [
       "Text(0.5, 0, 'Family Size')"
      ]
     },
     "execution_count": 18,
     "metadata": {},
     "output_type": "execute_result"
    },
    {
     "data": {
      "image/png": "[encoded data removed]",
      "text/plain": [
       "<Figure size 1440x720 with 2 Axes>"
      ]
     },
     "metadata": {
      "needs_background": "light"
     },
     "output_type": "display_data"
    }
   ],
   "source": [
    "train_copy['family_size'] = train_copy[['sibsp', 'parch']].sum(axis = 1)\n",
    "fam_size_surv = train_copy.groupby(['family_size', 'survived']).passengerid.count().unstack()\n",
    "fam_size_surv_rate = fam_size_surv\n",
    "\n",
    "figure, (ax1, ax2) = plt.subplots(2, 1, figsize = (20, 10))\n",
    "\n",
    "sns.countplot(data = train_copy, x = 'family_size', ax = ax1)\n",
    "ax1.set_ylabel('Number of Passengers')\n",
    "ax1.set_xlabel('Family Size')\n",
    "ax1.set_title('Distribution of Family Size')\n",
    "\n",
    "sns.barplot(data = train_copy, x = 'family_size', y = 'survived', estimator = np.mean, ax = ax2)\n",
    "ax2.set_ylabel('Survival Rate')\n",
    "ax2.set_xlabel('Family Size')"
   ]
  },
  {
   "cell_type": "markdown",
   "id": "f215b388-ee35-4462-a730-5cee65796ca0",
   "metadata": {},
   "source": [
    "The chart above suggests move people onboard were travelling alone. This group had a low survival rate which is possibly because there are less mothers and children in this class. It might be useful to see what happens if categorise based on whether passengers were solo or not:"
   ]
  },
  {
   "cell_type": "code",
   "execution_count": 19,
   "id": "9ea94ffd-4bcf-47bb-b761-5dc84c4bfe90",
   "metadata": {},
   "outputs": [
    {
     "data": {
      "text/plain": [
       "[<matplotlib.axis.XTick at 0x7f87babe6ac0>,\n",
       " <matplotlib.axis.XTick at 0x7f87babe6a90>]"
      ]
     },
     "execution_count": 19,
     "metadata": {},
     "output_type": "execute_result"
    },
    {
     "data": {
      "image/png": "[encoded data removed]",
      "text/plain": [
       "<Figure size 720x432 with 1 Axes>"
      ]
     },
     "metadata": {
      "needs_background": "light"
     },
     "output_type": "display_data"
    }
   ],
   "source": [
    "figure, axes = plt.subplots(figsize = (10, 6))\n",
    "\n",
    "# create solo feature\n",
    "solo = train_copy['family_size'] == 0\n",
    "train_copy['solo'] = solo.map(arg = {False: 0, True: 1})\n",
    "\n",
    "# plot solo survival rate\n",
    "sns.barplot(data = train_copy, x = 'solo', y = 'survived', ax = axes)\n",
    "axes.set_title('Solo Survival Rate')\n",
    "axes.set_xlabel('Solo')\n",
    "axes.set_ylabel('Survival Rate')\n",
    "axes.set_xticks(ticks = [0, 1], labels = ['Not Solo', 'Solo'])"
   ]
  },
  {
   "cell_type": "markdown",
   "id": "d3b93266-10da-4777-8420-ace18c7554ad",
   "metadata": {},
   "source": [
    "### Ticket"
   ]
  },
  {
   "cell_type": "code",
   "execution_count": 20,
   "id": "6b5ccf0d-d8b8-4e3b-83d2-fb7aa18c63d0",
   "metadata": {
    "tags": []
   },
   "outputs": [
    {
     "data": {
      "text/html": [
       "<div>\n",
       "<style scoped>\n",
       "    .dataframe tbody tr th:only-of-type {\n",
       "        vertical-align: middle;\n",
       "    }\n",
       "\n",
       "    .dataframe tbody tr th {\n",
       "        vertical-align: top;\n",
       "    }\n",
       "\n",
       "    .dataframe thead th {\n",
       "        text-align: right;\n",
       "    }\n",
       "</style>\n",
       "<table border=\"1\" class=\"dataframe\">\n",
       "  <thead>\n",
       "    <tr style=\"text-align: right;\">\n",
       "      <th></th>\n",
       "      <th>passengerid</th>\n",
       "      <th>survived</th>\n",
       "      <th>pclass</th>\n",
       "      <th>name</th>\n",
       "      <th>sex</th>\n",
       "      <th>age</th>\n",
       "      <th>sibsp</th>\n",
       "      <th>parch</th>\n",
       "      <th>ticket</th>\n",
       "      <th>fare</th>\n",
       "      <th>cabin</th>\n",
       "      <th>embarked</th>\n",
       "      <th>title</th>\n",
       "      <th>title_group</th>\n",
       "      <th>age_group</th>\n",
       "      <th>family_size</th>\n",
       "      <th>solo</th>\n",
       "    </tr>\n",
       "  </thead>\n",
       "  <tbody>\n",
       "    <tr>\n",
       "      <th>0</th>\n",
       "      <td>1</td>\n",
       "      <td>0</td>\n",
       "      <td>3</td>\n",
       "      <td>Braund, Mr. Owen Harris</td>\n",
       "      <td>male</td>\n",
       "      <td>22.0</td>\n",
       "      <td>1.0</td>\n",
       "      <td>0.0</td>\n",
       "      <td>A/5 21171</td>\n",
       "      <td>7.2500</td>\n",
       "      <td>None</td>\n",
       "      <td>S</td>\n",
       "      <td>Mr</td>\n",
       "      <td>Mr</td>\n",
       "      <td>(16.0, 30.0]</td>\n",
       "      <td>1.0</td>\n",
       "      <td>0</td>\n",
       "    </tr>\n",
       "    <tr>\n",
       "      <th>1</th>\n",
       "      <td>2</td>\n",
       "      <td>1</td>\n",
       "      <td>1</td>\n",
       "      <td>Cumings, Mrs. John Bradley (Florence Briggs Th...</td>\n",
       "      <td>female</td>\n",
       "      <td>38.0</td>\n",
       "      <td>1.0</td>\n",
       "      <td>0.0</td>\n",
       "      <td>PC 17599</td>\n",
       "      <td>71.2833</td>\n",
       "      <td>C85</td>\n",
       "      <td>C</td>\n",
       "      <td>Mrs</td>\n",
       "      <td>Married female</td>\n",
       "      <td>(30.0, 50.0]</td>\n",
       "      <td>1.0</td>\n",
       "      <td>0</td>\n",
       "    </tr>\n",
       "    <tr>\n",
       "      <th>2</th>\n",
       "      <td>3</td>\n",
       "      <td>1</td>\n",
       "      <td>3</td>\n",
       "      <td>Heikkinen, Miss. Laina</td>\n",
       "      <td>female</td>\n",
       "      <td>26.0</td>\n",
       "      <td>0.0</td>\n",
       "      <td>0.0</td>\n",
       "      <td>STON/O2. 3101282</td>\n",
       "      <td>7.9250</td>\n",
       "      <td>None</td>\n",
       "      <td>S</td>\n",
       "      <td>Miss</td>\n",
       "      <td>Unmarried female</td>\n",
       "      <td>(16.0, 30.0]</td>\n",
       "      <td>0.0</td>\n",
       "      <td>1</td>\n",
       "    </tr>\n",
       "    <tr>\n",
       "      <th>3</th>\n",
       "      <td>4</td>\n",
       "      <td>1</td>\n",
       "      <td>1</td>\n",
       "      <td>Futrelle, Mrs. Jacques Heath (Lily May Peel)</td>\n",
       "      <td>female</td>\n",
       "      <td>35.0</td>\n",
       "      <td>1.0</td>\n",
       "      <td>0.0</td>\n",
       "      <td>113803</td>\n",
       "      <td>53.1000</td>\n",
       "      <td>C123</td>\n",
       "      <td>S</td>\n",
       "      <td>Mrs</td>\n",
       "      <td>Married female</td>\n",
       "      <td>(30.0, 50.0]</td>\n",
       "      <td>1.0</td>\n",
       "      <td>0</td>\n",
       "    </tr>\n",
       "    <tr>\n",
       "      <th>4</th>\n",
       "      <td>5</td>\n",
       "      <td>0</td>\n",
       "      <td>3</td>\n",
       "      <td>Allen, Mr. William Henry</td>\n",
       "      <td>male</td>\n",
       "      <td>35.0</td>\n",
       "      <td>0.0</td>\n",
       "      <td>0.0</td>\n",
       "      <td>373450</td>\n",
       "      <td>8.0500</td>\n",
       "      <td>None</td>\n",
       "      <td>S</td>\n",
       "      <td>Mr</td>\n",
       "      <td>Mr</td>\n",
       "      <td>(30.0, 50.0]</td>\n",
       "      <td>0.0</td>\n",
       "      <td>1</td>\n",
       "    </tr>\n",
       "    <tr>\n",
       "      <th>...</th>\n",
       "      <td>...</td>\n",
       "      <td>...</td>\n",
       "      <td>...</td>\n",
       "      <td>...</td>\n",
       "      <td>...</td>\n",
       "      <td>...</td>\n",
       "      <td>...</td>\n",
       "      <td>...</td>\n",
       "      <td>...</td>\n",
       "      <td>...</td>\n",
       "      <td>...</td>\n",
       "      <td>...</td>\n",
       "      <td>...</td>\n",
       "      <td>...</td>\n",
       "      <td>...</td>\n",
       "      <td>...</td>\n",
       "      <td>...</td>\n",
       "    </tr>\n",
       "    <tr>\n",
       "      <th>886</th>\n",
       "      <td>887</td>\n",
       "      <td>0</td>\n",
       "      <td>2</td>\n",
       "      <td>Montvila, Rev. Juozas</td>\n",
       "      <td>male</td>\n",
       "      <td>27.0</td>\n",
       "      <td>0.0</td>\n",
       "      <td>0.0</td>\n",
       "      <td>211536</td>\n",
       "      <td>13.0000</td>\n",
       "      <td>None</td>\n",
       "      <td>S</td>\n",
       "      <td>Rev</td>\n",
       "      <td>Rare</td>\n",
       "      <td>(16.0, 30.0]</td>\n",
       "      <td>0.0</td>\n",
       "      <td>1</td>\n",
       "    </tr>\n",
       "    <tr>\n",
       "      <th>887</th>\n",
       "      <td>888</td>\n",
       "      <td>1</td>\n",
       "      <td>1</td>\n",
       "      <td>Graham, Miss. Margaret Edith</td>\n",
       "      <td>female</td>\n",
       "      <td>19.0</td>\n",
       "      <td>0.0</td>\n",
       "      <td>0.0</td>\n",
       "      <td>112053</td>\n",
       "      <td>30.0000</td>\n",
       "      <td>B42</td>\n",
       "      <td>S</td>\n",
       "      <td>Miss</td>\n",
       "      <td>Unmarried female</td>\n",
       "      <td>(16.0, 30.0]</td>\n",
       "      <td>0.0</td>\n",
       "      <td>1</td>\n",
       "    </tr>\n",
       "    <tr>\n",
       "      <th>888</th>\n",
       "      <td>889</td>\n",
       "      <td>0</td>\n",
       "      <td>3</td>\n",
       "      <td>Johnston, Miss. Catherine Helen \"Carrie\"</td>\n",
       "      <td>female</td>\n",
       "      <td>NaN</td>\n",
       "      <td>1.0</td>\n",
       "      <td>2.0</td>\n",
       "      <td>W./C. 6607</td>\n",
       "      <td>23.4500</td>\n",
       "      <td>None</td>\n",
       "      <td>S</td>\n",
       "      <td>Miss</td>\n",
       "      <td>Unmarried female</td>\n",
       "      <td>NaN</td>\n",
       "      <td>3.0</td>\n",
       "      <td>0</td>\n",
       "    </tr>\n",
       "    <tr>\n",
       "      <th>889</th>\n",
       "      <td>890</td>\n",
       "      <td>1</td>\n",
       "      <td>1</td>\n",
       "      <td>Behr, Mr. Karl Howell</td>\n",
       "      <td>male</td>\n",
       "      <td>26.0</td>\n",
       "      <td>0.0</td>\n",
       "      <td>0.0</td>\n",
       "      <td>111369</td>\n",
       "      <td>30.0000</td>\n",
       "      <td>C148</td>\n",
       "      <td>C</td>\n",
       "      <td>Mr</td>\n",
       "      <td>Mr</td>\n",
       "      <td>(16.0, 30.0]</td>\n",
       "      <td>0.0</td>\n",
       "      <td>1</td>\n",
       "    </tr>\n",
       "    <tr>\n",
       "      <th>890</th>\n",
       "      <td>891</td>\n",
       "      <td>0</td>\n",
       "      <td>3</td>\n",
       "      <td>Dooley, Mr. Patrick</td>\n",
       "      <td>male</td>\n",
       "      <td>32.0</td>\n",
       "      <td>0.0</td>\n",
       "      <td>0.0</td>\n",
       "      <td>370376</td>\n",
       "      <td>7.7500</td>\n",
       "      <td>None</td>\n",
       "      <td>Q</td>\n",
       "      <td>Mr</td>\n",
       "      <td>Mr</td>\n",
       "      <td>(30.0, 50.0]</td>\n",
       "      <td>0.0</td>\n",
       "      <td>1</td>\n",
       "    </tr>\n",
       "  </tbody>\n",
       "</table>\n",
       "<p>891 rows × 17 columns</p>\n",
       "</div>"
      ],
      "text/plain": [
       "     passengerid  survived  pclass  \\\n",
       "0              1         0       3   \n",
       "1              2         1       1   \n",
       "2              3         1       3   \n",
       "3              4         1       1   \n",
       "4              5         0       3   \n",
       "..           ...       ...     ...   \n",
       "886          887         0       2   \n",
       "887          888         1       1   \n",
       "888          889         0       3   \n",
       "889          890         1       1   \n",
       "890          891         0       3   \n",
       "\n",
       "                                                  name     sex   age  sibsp  \\\n",
       "0                              Braund, Mr. Owen Harris    male  22.0    1.0   \n",
       "1    Cumings, Mrs. John Bradley (Florence Briggs Th...  female  38.0    1.0   \n",
       "2                               Heikkinen, Miss. Laina  female  26.0    0.0   \n",
       "3         Futrelle, Mrs. Jacques Heath (Lily May Peel)  female  35.0    1.0   \n",
       "4                             Allen, Mr. William Henry    male  35.0    0.0   \n",
       "..                                                 ...     ...   ...    ...   \n",
       "886                              Montvila, Rev. Juozas    male  27.0    0.0   \n",
       "887                       Graham, Miss. Margaret Edith  female  19.0    0.0   \n",
       "888           Johnston, Miss. Catherine Helen \"Carrie\"  female   NaN    1.0   \n",
       "889                              Behr, Mr. Karl Howell    male  26.0    0.0   \n",
       "890                                Dooley, Mr. Patrick    male  32.0    0.0   \n",
       "\n",
       "     parch            ticket     fare cabin embarked  title       title_group  \\\n",
       "0      0.0         A/5 21171   7.2500  None        S     Mr                Mr   \n",
       "1      0.0          PC 17599  71.2833   C85        C    Mrs    Married female   \n",
       "2      0.0  STON/O2. 3101282   7.9250  None        S   Miss  Unmarried female   \n",
       "3      0.0            113803  53.1000  C123        S    Mrs    Married female   \n",
       "4      0.0            373450   8.0500  None        S     Mr                Mr   \n",
       "..     ...               ...      ...   ...      ...    ...               ...   \n",
       "886    0.0            211536  13.0000  None        S    Rev              Rare   \n",
       "887    0.0            112053  30.0000   B42        S   Miss  Unmarried female   \n",
       "888    2.0        W./C. 6607  23.4500  None        S   Miss  Unmarried female   \n",
       "889    0.0            111369  30.0000  C148        C     Mr                Mr   \n",
       "890    0.0            370376   7.7500  None        Q     Mr                Mr   \n",
       "\n",
       "        age_group  family_size  solo  \n",
       "0    (16.0, 30.0]          1.0     0  \n",
       "1    (30.0, 50.0]          1.0     0  \n",
       "2    (16.0, 30.0]          0.0     1  \n",
       "3    (30.0, 50.0]          1.0     0  \n",
       "4    (30.0, 50.0]          0.0     1  \n",
       "..            ...          ...   ...  \n",
       "886  (16.0, 30.0]          0.0     1  \n",
       "887  (16.0, 30.0]          0.0     1  \n",
       "888           NaN          3.0     0  \n",
       "889  (16.0, 30.0]          0.0     1  \n",
       "890  (30.0, 50.0]          0.0     1  \n",
       "\n",
       "[891 rows x 17 columns]"
      ]
     },
     "execution_count": 20,
     "metadata": {},
     "output_type": "execute_result"
    }
   ],
   "source": [
    "train_copy"
   ]
  },
  {
   "cell_type": "markdown",
   "id": "f86772da-e13c-4910-9dca-3f56e1f3de70",
   "metadata": {},
   "source": [
    "As shown above, this feature is a little more tricky than previous ones. From what we can see above, it appears as though ticket strings are made up of an initial code followed by a number. Some tickets have a code and some don't. ***Let's check how many parts make up a ticket string.***"
   ]
  },
  {
   "cell_type": "code",
   "execution_count": 21,
   "id": "4ca1612b-a03a-419c-9ca7-82e4b268db2d",
   "metadata": {},
   "outputs": [
    {
     "name": "stdout",
     "output_type": "stream",
     "text": [
      "Count of Number of Ticket Parts\n"
     ]
    },
    {
     "data": {
      "text/plain": [
       "1    665\n",
       "2    213\n",
       "3     13\n",
       "dtype: int64"
      ]
     },
     "execution_count": 21,
     "metadata": {},
     "output_type": "execute_result"
    }
   ],
   "source": [
    "# copy the dataset\n",
    "train_copy = train_copy.copy()\n",
    "\n",
    "# split the ticket into parts\n",
    "train_copy['ticket_split'] = train_copy['ticket'].str.split(' ')\n",
    "\n",
    "# how many parts do we get?\n",
    "number_of_parts = [len(x) for x in train_copy['ticket_split']]\n",
    "number_of_parts.sort(reverse = True)\n",
    "print('Count of Number of Ticket Parts')\n",
    "pd.Series(number_of_parts).value_counts()"
   ]
  },
  {
   "cell_type": "markdown",
   "id": "fd603605-9907-4f44-bcdc-cecc3ee9fca2",
   "metadata": {},
   "source": [
    "Most tickets contain just a number. ***So is there a factor which determines whether a ticket has a code as well? And why are there 13 tickets with 3 parts?***"
   ]
  },
  {
   "cell_type": "code",
   "execution_count": 22,
   "id": "6230a86a-84e8-4611-9ebf-0e37d993fffb",
   "metadata": {},
   "outputs": [],
   "source": [
    "# get list of ticket codes where possible.\n",
    "train_copy['ticket_code'] = train_copy['ticket_split'].apply(lambda x: x[0] if len(x) == 2 else 'NA')\n",
    "train_copy['ticket_number'] = train_copy['ticket_split'].apply(lambda x: x[2] if len(x) == 3 else (x[1] if len(x) == 2 else x[0]))\n",
    "\n",
    "# seperate passengers based on whether they have a ticket code or not\n",
    "train_copy['has_code'] = ~(train_copy['ticket_code'] == 'NA')\n",
    "\n",
    "# get numerical columns\n",
    "num_cols = [col for col in train_copy.columns if train_copy[col].dtype in (['int64', 'float64'])]\n",
    "num_cols.remove('passengerid')"
   ]
  },
  {
   "cell_type": "code",
   "execution_count": 23,
   "id": "a12297da-dc48-4baf-89c6-ae614aa4c74d",
   "metadata": {},
   "outputs": [
    {
     "data": {
      "text/plain": [
       "<AxesSubplot:xlabel='has_code'>"
      ]
     },
     "execution_count": 23,
     "metadata": {},
     "output_type": "execute_result"
    },
    {
     "data": {
      "image/png": "[encoded data removed]",
      "text/plain": [
       "<Figure size 1440x1080 with 2 Axes>"
      ]
     },
     "metadata": {
      "needs_background": "light"
     },
     "output_type": "display_data"
    }
   ],
   "source": [
    "# create a figure\n",
    "fig = plt.figure(figsize = (20, 15))\n",
    "\n",
    "# create a grid inside the figure\n",
    "gs = fig.add_gridspec(1, 2)\n",
    "\n",
    "# create an empty list\n",
    "ax = [None for _ in range(5)]\n",
    "\n",
    "# find survival rate between groups\n",
    "has_code_total = train_copy[train_copy['has_code'] == True].passengerid.count()\n",
    "has_code_survived = train_copy[(train_copy['has_code'] == True) & (train_copy['survived'] == True)].passengerid.count()\n",
    "has_code_surv_rate = round(has_code_survived/has_code_total * 100)\n",
    "\n",
    "no_code_total = train_copy[train_copy['has_code'] == False].passengerid.count()\n",
    "no_code_survived = train_copy[(train_copy['has_code'] == False) & (train_copy['survived'] == True)].passengerid.count()\n",
    "no_code_surv_rate = round(no_code_survived/no_code_total * 100)\n",
    "\n",
    "ax[0] = fig.add_subplot(gs[0, 0])\n",
    "train_copy.groupby(['has_code', 'survived']).passengerid.count().unstack().plot(kind = 'bar', stacked = True, ax = ax[0])\n",
    "ax[0].annotate(\n",
    "    text = 'Survival rate (with code) = {}%'.format(has_code_surv_rate),\n",
    "    xy = (0.05, 0.97), \n",
    "    xycoords = 'axes fraction',\n",
    "    fontsize = 'xx-large',\n",
    "    bbox = dict(facecolor = 'none', boxstyle = 'round, pad = 0.2', edgecolor = 'black')\n",
    ")\n",
    "ax[0].annotate(\n",
    "    text = 'Survival rate (without code) = {}%'.format(no_code_surv_rate),\n",
    "    xy = (0.45, 0.32), \n",
    "    xycoords = 'axes fraction',\n",
    "    fontsize = 'xx-large',\n",
    "    bbox = dict(facecolor = 'none', boxstyle = 'round, pad = 0.2', edgecolor = 'black')\n",
    ")\n",
    "\n",
    "\n",
    "ax[1] = fig.add_subplot(gs[0, 1])\n",
    "train_copy.groupby(['has_code', 'pclass']).passengerid.count().unstack().plot(kind = 'bar', stacked = True, ax = ax[1])\n",
    "\n",
    "# ax[2] = fig.add_subplot(gs[1, 0])\n",
    "# train_copy.groupby(['has_code', 'age']).passengerid.count().unstack().plot(kind = 'bar', stacked = True, ax = ax[1])"
   ]
  },
  {
   "cell_type": "code",
   "execution_count": 24,
   "id": "67f78558-e6c9-4a7c-ad12-89dcfe26ec6c",
   "metadata": {},
   "outputs": [
    {
     "data": {
      "text/html": [
       "<div>\n",
       "<style scoped>\n",
       "    .dataframe tbody tr th:only-of-type {\n",
       "        vertical-align: middle;\n",
       "    }\n",
       "\n",
       "    .dataframe tbody tr th {\n",
       "        vertical-align: top;\n",
       "    }\n",
       "\n",
       "    .dataframe thead th {\n",
       "        text-align: right;\n",
       "    }\n",
       "</style>\n",
       "<table border=\"1\" class=\"dataframe\">\n",
       "  <thead>\n",
       "    <tr style=\"text-align: right;\">\n",
       "      <th></th>\n",
       "      <th>passengerid</th>\n",
       "      <th>survived</th>\n",
       "      <th>pclass</th>\n",
       "      <th>name</th>\n",
       "      <th>sex</th>\n",
       "      <th>age</th>\n",
       "      <th>sibsp</th>\n",
       "      <th>parch</th>\n",
       "      <th>ticket</th>\n",
       "      <th>fare</th>\n",
       "      <th>...</th>\n",
       "      <th>embarked</th>\n",
       "      <th>title</th>\n",
       "      <th>title_group</th>\n",
       "      <th>age_group</th>\n",
       "      <th>family_size</th>\n",
       "      <th>solo</th>\n",
       "      <th>ticket_split</th>\n",
       "      <th>ticket_code</th>\n",
       "      <th>ticket_number</th>\n",
       "      <th>has_code</th>\n",
       "    </tr>\n",
       "  </thead>\n",
       "  <tbody>\n",
       "  </tbody>\n",
       "</table>\n",
       "<p>0 rows × 21 columns</p>\n",
       "</div>"
      ],
      "text/plain": [
       "Empty DataFrame\n",
       "Columns: [passengerid, survived, pclass, name, sex, age, sibsp, parch, ticket, fare, cabin, embarked, title, title_group, age_group, family_size, solo, ticket_split, ticket_code, ticket_number, has_code]\n",
       "Index: []\n",
       "\n",
       "[0 rows x 21 columns]"
      ]
     },
     "execution_count": 24,
     "metadata": {},
     "output_type": "execute_result"
    }
   ],
   "source": [
    "train_copy[train_copy['ticket_number'] == 'STON/O']"
   ]
  },
  {
   "cell_type": "code",
   "execution_count": 25,
   "id": "1ff33323-52ef-4896-b34c-802b660f119e",
   "metadata": {},
   "outputs": [
    {
     "name": "stdout",
     "output_type": "stream",
     "text": [
      "NA            678\n",
      "PC             60\n",
      "C.A.           27\n",
      "A/5            10\n",
      "W./C.           9\n",
      "CA.             8\n",
      "SOTON/O.Q.      8\n",
      "A/5.            7\n",
      "SOTON/OQ        7\n",
      "STON/O2.        6\n",
      "CA              6\n",
      "F.C.C.          5\n",
      "C               5\n",
      "SC/PARIS        5\n",
      "S.O.C.          5\n",
      "SC/Paris        4\n",
      "A/4.            3\n",
      "S.O./P.P.       3\n",
      "PP              3\n",
      "A/4             3\n",
      "P/PP            2\n",
      "S.C./PARIS      2\n",
      "SOTON/O2        2\n",
      "SC/AH           2\n",
      "A.5.            2\n",
      "WE/P            2\n",
      "A./5.           2\n",
      "A/S             1\n",
      "SO/C            1\n",
      "F.C.            1\n",
      "S.W./PP         1\n",
      "SW/PP           1\n",
      "SC              1\n",
      "SCO/W           1\n",
      "W/C             1\n",
      "Fa              1\n",
      "S.O.P.          1\n",
      "S.C./A.4.       1\n",
      "A4.             1\n",
      "W.E.P.          1\n",
      "S.P.            1\n",
      "C.A./SOTON      1\n",
      "Name: ticket_code, dtype: int64\n",
      "****************************************************************************************************\n",
      "1601       7\n",
      "347082     7\n",
      "2343       7\n",
      "3101295    6\n",
      "2144       6\n",
      "          ..\n",
      "9234       1\n",
      "19988      1\n",
      "2693       1\n",
      "17612      1\n",
      "370376     1\n",
      "Name: ticket_number, Length: 679, dtype: int64\n"
     ]
    }
   ],
   "source": [
    "# ticket code value counts\n",
    "print(train_copy['ticket_code'].value_counts())\n",
    "print('*'*100)\n",
    "print(train_copy['ticket_number'].value_counts())"
   ]
  },
  {
   "cell_type": "markdown",
   "id": "92c956a1-52c4-46b4-8a82-a5cafb532cff",
   "metadata": {},
   "source": [
    "# Model building\n",
    "\n",
    "To keep things simple for now, we will build a simple maching learning model with the few features we've looked at so far.\n",
    "\n",
    "The only concerns I have are that some of these features are correlated with one another. As we've seen, age is linked with the number of siblings/spouses and parents/children one has. How should this be dealt with? \n",
    "\n",
    "In the meantime, we will use the following features:\n",
    "\n",
    "- Pclass\n",
    "    - no further pre-processing required\n",
    "- Sex\n",
    "    - needs to be converted to numerical\n",
    "- Age\n",
    "    - no pre-processing required"
   ]
  },
  {
   "cell_type": "markdown",
   "id": "aa7fe97e-3124-4e79-8ebc-11b082d4f6bd",
   "metadata": {},
   "source": [
    "## Pre-processing\n",
    "\n",
    "- Do train test split here for extra validation dataset.\n",
    "- Add method so that .get_feature_names_out works from ColumnTransformer"
   ]
  },
  {
   "cell_type": "code",
   "execution_count": 68,
   "id": "1bf0903a-5503-4250-b782-a150320d04ae",
   "metadata": {},
   "outputs": [],
   "source": [
    "# split the target variable\n",
    "train_y = train['survived']\n",
    "train_X = train.drop(columns = 'survived')\n",
    "train_copy = train_X.copy()"
   ]
  },
  {
   "cell_type": "code",
   "execution_count": 69,
   "id": "3db2d627-6516-473e-899a-3e5da2a02248",
   "metadata": {},
   "outputs": [],
   "source": [
    "# build class to filter attributes\n",
    "from sklearn.base import BaseEstimator, TransformerMixin\n",
    "from sklearn.impute import SimpleImputer\n",
    "from sklearn.preprocessing import OneHotEncoder\n",
    "from sklearn.compose import ColumnTransformer\n",
    "from sklearn.preprocessing import KBinsDiscretizer\n",
    "from sklearn.pipeline import Pipeline\n",
    "\n",
    "class AgeGroupAdder(BaseEstimator, TransformerMixin):\n",
    "    \n",
    "    '''Class to build age groups from age data'''\n",
    "    \n",
    "    def __init__(self):\n",
    "        return None\n",
    "    \n",
    "    def fit(self, X, y = None):\n",
    "        return self\n",
    "    \n",
    "    def transform(self, X):\n",
    "        \n",
    "        # creating age groups from age column\n",
    "        age_intervals = (0, 7, 16, 30, 50, 100)\n",
    "        age_groups = np.digitize(x = X.reshape(-1), \n",
    "                            bins = age_intervals).reshape(-1, 1)        \n",
    "                \n",
    "        # one hot encode age_group\n",
    "        age_encoder = OneHotEncoder(sparse = False)\n",
    "        age_encoded = age_encoder.fit_transform(pd.DataFrame(age_groups))\n",
    "                        \n",
    "        return age_encoded\n",
    "    \n",
    "class FamilyFeatureAdder(BaseEstimator, TransformerMixin):\n",
    "    '''Class to calculate family size using the original parch and sibsp columns in the data.'''\n",
    "    \n",
    "    def __init__(self, solo_feature = False):\n",
    "        \n",
    "        self.solo_feature = solo_feature\n",
    "        return None \n",
    "    \n",
    "    def fit(self, X, y=None):\n",
    "        \n",
    "        return self\n",
    "    \n",
    "    def transform(self, X):\n",
    "        \n",
    "        # see if solo_feature is switched on\n",
    "        if self.solo_feature == False:\n",
    "            \n",
    "            # create family size feature\n",
    "            family_size = X.sum(axis = 1).to_numpy().reshape(-1, 1)\n",
    "            \n",
    "            return family_size\n",
    "        \n",
    "        elif self.solo_feature == True:\n",
    "            \n",
    "            # create family size feature\n",
    "            family_size = X.sum(axis = 1)\n",
    "            \n",
    "            # create solo feature\n",
    "            solo = family_size == 0\n",
    "            solo = solo.map(arg = {False: 0, True: 1}).to_numpy().reshape(-1, 1)\n",
    "            \n",
    "            return solo\n",
    "\n",
    "class TitleGroupAdder(BaseEstimator, TransformerMixin):\n",
    "    ''' Class to build the title group feature.'''\n",
    "    \n",
    "    def __init__(self):\n",
    "        \n",
    "        return None\n",
    "    \n",
    "    def fit(self, X, y= None):\n",
    "        \n",
    "        return self\n",
    "    \n",
    "    def transform(self, X):\n",
    "                \n",
    "        # get title\n",
    "        titles= X['name'].str.split(pat = ',').apply(lambda x: x[1].split('.')[0])\n",
    "        \n",
    "        # build title group feature\n",
    "        title_group = titles\n",
    "        title_group.replace(to_replace = [' Miss', ' Mlle'], value = 'Unmarried female', inplace = True)\n",
    "        title_group.replace(to_replace = [' Mrs', ' Mme'], value = 'Married female', inplace = True)\n",
    "        title_group.replace(to_replace = [' Master', ' Dr', ' Rev', ' Major', ' Col', ' Don', ' Ms', \n",
    "                                                    ' Lady', ' Sir', ' Capt', ' the Countess', ' Jonkheer', ' Dona'], \n",
    "                                                      value = 'Rare', inplace = True)\n",
    "            \n",
    "        return title_group.to_numpy().reshape(-1, 1)"
   ]
  },
  {
   "cell_type": "code",
   "execution_count": 74,
   "id": "9907d364-6734-49b7-8b9b-6d6b54eaf71d",
   "metadata": {},
   "outputs": [],
   "source": [
    "# create sequential steps for creating the age_group feature using Pipeline\n",
    "age_pipe = Pipeline(steps = [('age_imputer', SimpleImputer()),\n",
    "                           ('age_group_adder', AgeGroupAdder())])\n",
    "title_pipe = Pipeline(steps = [('title_adder', TitleGroupAdder()),\n",
    "                               ('title_ohe', OneHotEncoder(sparse = False))])\n",
    "\n",
    "# state steps which will transform simultaneously (apart from within age_pipe)\n",
    "ct = ColumnTransformer(transformers = [ \n",
    "        ('pclass_passthrough', 'passthrough', ['pclass']),\n",
    "        ('age_feature', age_pipe, ['age']),\n",
    "        ('sex_ohe', OneHotEncoder(), ['sex']),\n",
    "        ('family_feature', FamilyFeatureAdder(solo_feature = False), ['parch', 'sibsp']),\n",
    "        ('title_feature', title_pipe, ['name'])\n",
    "    ], remainder='drop'\n",
    ")"
   ]
  },
  {
   "cell_type": "code",
   "execution_count": 76,
   "id": "8c47e603-0311-42a0-af65-c2aaec5c6809",
   "metadata": {},
   "outputs": [
    {
     "name": "stdout",
     "output_type": "stream",
     "text": [
      "      0    1    2    3    4    5    6    7    8    9    10   11   12\n",
      "0    3.0  0.0  0.0  1.0  0.0  0.0  0.0  1.0  1.0  1.0  0.0  0.0  0.0\n",
      "1    1.0  0.0  0.0  0.0  1.0  0.0  1.0  0.0  1.0  0.0  1.0  0.0  0.0\n",
      "2    3.0  0.0  0.0  1.0  0.0  0.0  1.0  0.0  0.0  0.0  0.0  0.0  1.0\n",
      "3    1.0  0.0  0.0  0.0  1.0  0.0  1.0  0.0  1.0  0.0  1.0  0.0  0.0\n",
      "4    3.0  0.0  0.0  0.0  1.0  0.0  0.0  1.0  0.0  1.0  0.0  0.0  0.0\n",
      "..   ...  ...  ...  ...  ...  ...  ...  ...  ...  ...  ...  ...  ...\n",
      "886  2.0  0.0  0.0  1.0  0.0  0.0  0.0  1.0  0.0  0.0  0.0  1.0  0.0\n",
      "887  1.0  0.0  0.0  1.0  0.0  0.0  1.0  0.0  0.0  0.0  0.0  0.0  1.0\n",
      "888  3.0  0.0  0.0  1.0  0.0  0.0  1.0  0.0  3.0  0.0  0.0  0.0  1.0\n",
      "889  1.0  0.0  0.0  1.0  0.0  0.0  0.0  1.0  0.0  1.0  0.0  0.0  0.0\n",
      "890  3.0  0.0  0.0  0.0  1.0  0.0  0.0  1.0  0.0  1.0  0.0  0.0  0.0\n",
      "\n",
      "[891 rows x 13 columns]\n"
     ]
    }
   ],
   "source": [
    "# test column transformer\n",
    "train_prepared = ct.fit_transform(train_copy)\n",
    "print(pd.DataFrame(train_prepared))"
   ]
  },
  {
   "cell_type": "markdown",
   "id": "e58f9461-09a6-4646-8c9c-0189fbcf4564",
   "metadata": {
    "tags": []
   },
   "source": [
    "## Building model pipeline"
   ]
  },
  {
   "cell_type": "code",
   "execution_count": 77,
   "id": "f6e199af-d886-4368-8d33-86e3630b25c0",
   "metadata": {},
   "outputs": [],
   "source": [
    "from sklearn.model_selection import StratifiedKFold\n",
    "from sklearn.model_selection import GridSearchCV\n",
    "from sklearn.linear_model import LogisticRegression\n",
    "from sklearn.ensemble import RandomForestClassifier\n",
    "from sklearn.svm import SVC\n",
    "from sklearn.linear_model import SGDClassifier\n",
    "from sklearn.neighbors import KNeighborsClassifier\n",
    "\n",
    "# suppress warnings\n",
    "import warnings\n",
    "warnings.filterwarnings(action='ignore', category=UserWarning)"
   ]
  },
  {
   "cell_type": "markdown",
   "id": "352d0dbe-554f-4e34-9168-c5a2becd3d71",
   "metadata": {},
   "source": [
    "### *Option 1 - find the most optimal classifier!*\n",
    "\n",
    "This method attempts to find one single classifier to make predictions."
   ]
  },
  {
   "cell_type": "code",
   "execution_count": 166,
   "id": "f5ceb880-623a-493a-97b4-b6994ddeccc9",
   "metadata": {},
   "outputs": [
    {
     "name": "stdout",
     "output_type": "stream",
     "text": [
      "Accuracy is: 0.8327537505492435\n",
      "Best parameters are: {'classifier': SVC(C=1, degree=1, max_iter=1000, probability=True), 'classifier__C': 1, 'classifier__degree': 1, 'classifier__kernel': 'rbf', 'classifier__max_iter': 1000, 'classifier__probability': True, 'preprocessor__family_feature__solo_feature': False}\n"
     ]
    }
   ],
   "source": [
    "### CLASSIFIERS ###\n",
    "log_reg = LogisticRegression()\n",
    "random_forest = RandomForestClassifier()\n",
    "svc = SVC()\n",
    "sgd = SGDClassifier()\n",
    "knn = KNeighborsClassifier()\n",
    "\n",
    "### HYPERPARAMETERS ###\n",
    "params_log_reg = {\n",
    "     'preprocessor__family_feature__solo_feature': [True, False],\n",
    "     'classifier': [log_reg],\n",
    "     'classifier__max_iter': [50, 100, 1000, 10000],\n",
    "     'classifier__penalty': ['none', 'l2'],\n",
    "     'classifier__C': [0.1, 1, 2, 5, 10, 20, 100]\n",
    "}\n",
    "params_random_forest = {\n",
    "     'preprocessor__family_feature__solo_feature': [True, False],\n",
    "     'classifier': [random_forest],\n",
    "     'classifier__n_estimators': [10, 100, 200, 1000]\n",
    "}\n",
    "params_svc = {\n",
    "    'preprocessor__family_feature__solo_feature': [True, False],\n",
    "    'classifier': [svc],\n",
    "    'classifier__C': [0.1, 1, 2, 5, 10, 20, 100],\n",
    "    'classifier__kernel': ['linear', 'poly', 'rbf', 'sigmoid'],\n",
    "    'classifier__degree': [1, 2, 3, 4, 5],\n",
    "    'classifier__max_iter': [50, 100, 1000, 10000],\n",
    "    'classifier__probability': [True]\n",
    "}\n",
    "params_sgd = {\n",
    "    'preprocessor__family_feature__solo_feature': [True, False],\n",
    "    'classifier': [sgd],\n",
    "    'classifier__loss': ['hinge', 'log', 'modified_huber',\n",
    "                         'squared_hinge', 'perceptron'],\n",
    "    'classifier__alpha': [0.0001, 0.001, 0.01, 0.1],\n",
    "    'classifier__fit_intercept': [True, False],\n",
    "    'classifier__max_iter': [50, 100, 1000, 10000],\n",
    "    'classifier__learning_rate': ['constant', 'adaptive'],\n",
    "    'classifier__eta0': [0.0001, 0.001, 0.01, 0.1]\n",
    "}\n",
    "params_knn = {\n",
    "    'preprocessor__family_feature__solo_feature': [True, False],\n",
    "    'classifier': [knn],\n",
    "    'classifier__n_neighbors': [3, 4, 5, 7, 10],\n",
    "    'classifier__weights': ['uniform', 'distance']\n",
    "}\n",
    "params = [params_log_reg, params_random_forest, \n",
    "          params_svc, params_sgd, params_knn]\n",
    "\n",
    "### CREATING PIPELINE ###\n",
    "pipeline = Pipeline(steps = [('preprocessor', ct), ('classifier', log_reg)])\n",
    "cv = StratifiedKFold(n_splits = 5, shuffle = True, random_state = 45)\n",
    "\n",
    "### GRID SEARCH ###\n",
    "gs = GridSearchCV(estimator= pipeline,\n",
    "                  param_grid= params,\n",
    "                  cv = cv,\n",
    "                  scoring = 'accuracy',\n",
    "                  error_score = 'raise')\n",
    "\n",
    "gs.fit(train_X, train_y)\n",
    "\n",
    "### GET BEST CLASSIFIER + PARAMETERS ###\n",
    "print('Accuracy is:', gs.best_score_)\n",
    "print('Best parameters are:', gs.best_params_)\n",
    "estimator = gs.best_params_['classifier']\n",
    "\n",
    "# export results\n",
    "pd.DataFrame(gs.cv_results_).to_csv('cross_validation_results.csv')"
   ]
  },
  {
   "cell_type": "markdown",
   "id": "b276f924-216c-45a3-a1da-a67f8f091def",
   "metadata": {},
   "source": [
    "### *Option 2 - ensemble ML*\n",
    "\n",
    "This methods attempts to find multiple skilled classifiers which then vote towards a prediction."
   ]
  },
  {
   "cell_type": "code",
   "execution_count": 114,
   "id": "1742cff9-bc67-4c17-8f82-1f489c9c1621",
   "metadata": {},
   "outputs": [
    {
     "name": "stdout",
     "output_type": "stream",
     "text": [
      "{'log_reg': 0.8148201619484026, 'random_forest': 0.8170924612390935, 'svc': 0.8316364321134895, 'sgd': 0.8193082669010107, 'knn': 0.8282781997363632}\n",
      "**************************************************\n",
      "{'log_reg': LogisticRegression(C=1, max_iter=50), 'random_forest': RandomForestClassifier(n_estimators=1000), 'svc': SVC(degree=1, max_iter=1000, probability=True), 'sgd': SGDClassifier(alpha=0.001, eta0=0.01, learning_rate='constant', loss='log'), 'knn': KNeighborsClassifier(n_neighbors=4)}\n"
     ]
    }
   ],
   "source": [
    "### CLASSIFIERS ###\n",
    "log_reg = LogisticRegression()\n",
    "random_forest = RandomForestClassifier()\n",
    "svc = SVC()\n",
    "sgd = SGDClassifier()\n",
    "knn = KNeighborsClassifier()\n",
    "\n",
    "classifiers = {\n",
    "    'log_reg': log_reg,\n",
    "    'random_forest': random_forest, \n",
    "    'svc': svc,\n",
    "    'sgd': sgd,\n",
    "    'knn': knn\n",
    "}\n",
    "\n",
    "### HYPERPARAMETERS ###\n",
    "params = {\n",
    "     'log_reg':{\n",
    "     'max_iter': [50, 100, 1000, 10000],\n",
    "     'penalty': ['none', 'l2'],\n",
    "     'C': [0.1, 1, 2, 5, 10, 20, 100]\n",
    "    },\n",
    "     'random_forest':{\n",
    "     'n_estimators': [10, 100, 200, 1000]\n",
    "    },\n",
    "    'svc':{\n",
    "    'kernel': ['linear', 'poly', 'rbf', 'sigmoid'],\n",
    "    'degree': [1, 2, 3, 4, 5],\n",
    "    'max_iter': [50, 100, 1000, 10000],\n",
    "    'probability': [True]\n",
    "    },\n",
    "    'sgd':{\n",
    "    'loss': ['log', 'modified_huber',\n",
    "                         'squared_hinge', 'perceptron'],\n",
    "    'alpha': [0.0001, 0.001, 0.01, 0.1],\n",
    "    'fit_intercept': [True, False],\n",
    "    'max_iter': [50, 100, 1000, 10000],\n",
    "    'learning_rate': ['constant', 'adaptive'],\n",
    "    'eta0': [0.0001, 0.001, 0.01, 0.1],\n",
    "    },\n",
    "    'knn':{\n",
    "    'n_neighbors': [3, 4, 5, 7, 10],\n",
    "    'weights': ['uniform', 'distance']\n",
    "    }\n",
    "}\n",
    "\n",
    "# record scores and parameters\n",
    "best_score = dict()\n",
    "best_clfs = dict()\n",
    "\n",
    "for clf_key in list(classifiers.keys()):\n",
    "        \n",
    "    # get classifier and params\n",
    "    clf = classifiers[clf_key]\n",
    "    clf_params = params[clf_key]\n",
    "    \n",
    "    # grid search\n",
    "    cv = StratifiedKFold(n_splits = 5, shuffle = True, random_state = 45)\n",
    "    gs = GridSearchCV(estimator=clf, \n",
    "                      param_grid=clf_params,\n",
    "                      scoring = 'accuracy',\n",
    "                      error_score = 'raise')\n",
    "    \n",
    "    # fit\n",
    "    gs.fit(train_prepared, train_y)\n",
    "    \n",
    "    best_score[clf_key] = gs.best_score_\n",
    "    best_clfs[clf_key] = gs.best_estimator_\n",
    "\n",
    "print(best_score)\n",
    "print('*'*50)\n",
    "print(best_clfs)"
   ]
  },
  {
   "cell_type": "code",
   "execution_count": 123,
   "id": "52f0ac12-36df-474e-908b-8bae612640bd",
   "metadata": {},
   "outputs": [
    {
     "name": "stdout",
     "output_type": "stream",
     "text": [
      "[0.84357542 0.83707865 0.74719101 0.83707865 0.87078652]\n"
     ]
    },
    {
     "data": {
      "text/plain": [
       "Pipeline(steps=[('preprocessor',\n",
       "                 ColumnTransformer(transformers=[('pclass_passthrough',\n",
       "                                                  'passthrough', ['pclass']),\n",
       "                                                 ('age_feature',\n",
       "                                                  Pipeline(steps=[('age_imputer',\n",
       "                                                                   SimpleImputer()),\n",
       "                                                                  ('age_group_adder',\n",
       "                                                                   AgeGroupAdder())]),\n",
       "                                                  ['age']),\n",
       "                                                 ('sex_ohe', OneHotEncoder(),\n",
       "                                                  ['sex']),\n",
       "                                                 ('family_feature',\n",
       "                                                  FamilyFeatureAdder(),\n",
       "                                                  ['parch', 'sibsp']),\n",
       "                                                 ('title_feature',\n",
       "                                                  Pipeline(steps=[(...\n",
       "                                                                   OneHotEncoder(sparse=False))]),\n",
       "                                                  ['name'])])),\n",
       "                ('vote_clf',\n",
       "                 VotingClassifier(estimators=[('log_reg',\n",
       "                                               LogisticRegression(C=1,\n",
       "                                                                  max_iter=50)),\n",
       "                                              ('random_forest',\n",
       "                                               RandomForestClassifier(n_estimators=1000)),\n",
       "                                              ('svc',\n",
       "                                               SVC(degree=1, max_iter=1000,\n",
       "                                                   probability=True)),\n",
       "                                              ('sgd',\n",
       "                                               SGDClassifier(alpha=0.001,\n",
       "                                                             eta0=0.01,\n",
       "                                                             learning_rate='constant',\n",
       "                                                             loss='log')),\n",
       "                                              ('knn',\n",
       "                                               KNeighborsClassifier(n_neighbors=4))]))])"
      ]
     },
     "execution_count": 123,
     "metadata": {},
     "output_type": "execute_result"
    }
   ],
   "source": [
    "from sklearn.ensemble import VotingClassifier\n",
    "from sklearn.model_selection import cross_val_score\n",
    "\n",
    "classifiers = list(best_clfs.items())\n",
    "\n",
    "vote_clf = VotingClassifier(estimators = classifiers, voting = 'hard')\n",
    "\n",
    "clf_pipeline = Pipeline(steps = [\n",
    "    ('preprocessor', ct),\n",
    "    ('vote_clf', vote_clf)\n",
    "])\n",
    "\n",
    "cv = StratifiedKFold(n_splits = 5, shuffle = True, random_state = 45)\n",
    "cv_scores = cross_val_score(estimator=clf_pipeline,\n",
    "                            X=train_X,\n",
    "                            y=train_y,\n",
    "                            scoring='accuracy',\n",
    "                            cv=cv)\n",
    "\n",
    "\n",
    "print(cv_scores)\n",
    "\n",
    "clf_pipeline.fit(train_X, train_y)"
   ]
  },
  {
   "cell_type": "code",
   "execution_count": 124,
   "id": "6c88bc12-e7f0-4269-b091-efdf5a83b34d",
   "metadata": {},
   "outputs": [
    {
     "name": "stdout",
     "output_type": "stream",
     "text": [
      "Predictions for first 20 passengers are: [0 1 1 1 0 0 0 0 1 1 1 1 0 0 1 1 0 0 1 1]\n",
      "True labels for first 20 passengers are: [0 1 1 1 0 0 0 0 1 1 1 1 0 0 0 1 0 1 0 1]\n"
     ]
    }
   ],
   "source": [
    "# look at examples\n",
    "num_examples = 20\n",
    "some_data = train_X[:num_examples]\n",
    "example_preds = clf_pipeline.predict(some_data)\n",
    "\n",
    "print('Predictions for first {} passengers are:'.format(num_examples), example_preds)\n",
    "print('True labels for first {} passengers are:'.format(num_examples), train_y[:num_examples].to_numpy())"
   ]
  },
  {
   "cell_type": "markdown",
   "id": "0b60b21e-f7bf-4c25-8298-9b776a4669bf",
   "metadata": {
    "tags": []
   },
   "source": [
    "# Model evaluation"
   ]
  },
  {
   "cell_type": "markdown",
   "id": "9a811e12-ab11-4547-ba52-fcd1c86e2f9f",
   "metadata": {},
   "source": [
    "## Precision & Recall vs Threshold value\n",
    "\n",
    "We have a working model. By default it is using a threshold of 0.5. If we want to, we can tune this to achieve a particular scoring aim. For example, do we want to catch more positive classes at the cost of being less precise? Or the other way around? If so, we will need to see how different thresholds affect precision and recall. This is shown below."
   ]
  },
  {
   "cell_type": "code",
   "execution_count": 117,
   "id": "e460ec10-e19a-4de3-9637-ee7acbde4ed6",
   "metadata": {},
   "outputs": [
    {
     "data": {
      "text/plain": [
       "<matplotlib.legend.Legend at 0x7f87bc331070>"
      ]
     },
     "execution_count": 117,
     "metadata": {},
     "output_type": "execute_result"
    },
    {
     "data": {
      "image/png": "[encoded data removed]",
      "text/plain": [
       "<Figure size 1080x576 with 1 Axes>"
      ]
     },
     "metadata": {
      "needs_background": "light"
     },
     "output_type": "display_data"
    }
   ],
   "source": [
    "# make predictions on the training set\n",
    "train_preds = clf_pipeline.predict_proba(train_X)[:,1]\n",
    "\n",
    "# get metrics\n",
    "from sklearn.metrics import precision_recall_curve\n",
    "precision, recall, thresholds = precision_recall_curve(train_y, train_preds)\n",
    "\n",
    "# plot threshold vs precision\n",
    "figure, axes = plt.subplots(figsize = (15, 8))\n",
    "sns.lineplot(x = thresholds, y = precision[:-1], dashes = True, label = 'Precision', axes = axes)\n",
    "sns.lineplot(x = thresholds, y = recall[:-1], dashes = True, label = 'Recall', axes = axes)\n",
    "axes.set_title('Precision & Recall as a function of Threshold Value')\n",
    "axes.set_xlabel('Threshold')\n",
    "axes.set_ylabel('Metric Value')\n",
    "axes.vlines(x = 0.5, ymin = 0, ymax = 1, colors = 'black', linestyles = 'dotted', label = 'Default Threshold for Probabilistic Classifiers')\n",
    "axes.legend()"
   ]
  },
  {
   "cell_type": "markdown",
   "id": "1f2f72c1-0222-47a5-aef7-cf094087570e",
   "metadata": {},
   "source": [
    "## ROC curve\n",
    "\n",
    "The Receiver Operating Characteristic curve plots the true positive rate (TPR) against the false positive rate (FPR). The true positive rate is the proportion of the positive class which is predicted as positive. The false positive rate is the proportion of the negative class which is predicted as positive. Both these rates should rise if the threshold value falls and vice versa. Ideally, we would have a 100% TPR and a 0% FPR, however, this is not ideal. \n",
    "\n",
    "For example, if we have a low threshold value, we are less precise with our positive predictions. We therefore make more positive predictions. This means that the TPR rises. It also means we make more mistakes as more of our positive predictions are not correct. This means the FPR also rises. \n",
    "\n",
    "Our aim is to maximise the TPR rate whilst minimising the FPR. An ideal/optimal point on the ROC curve would be the top left of the graph."
   ]
  },
  {
   "cell_type": "code",
   "execution_count": 118,
   "id": "01506f1f-0c21-4feb-b668-b6759f8928ea",
   "metadata": {},
   "outputs": [
    {
     "data": {
      "text/plain": [
       "<matplotlib.legend.Legend at 0x7f877885d340>"
      ]
     },
     "execution_count": 118,
     "metadata": {},
     "output_type": "execute_result"
    },
    {
     "data": {
      "image/png": "[encoded data removed]",
      "text/plain": [
       "<Figure size 1080x576 with 1 Axes>"
      ]
     },
     "metadata": {
      "needs_background": "light"
     },
     "output_type": "display_data"
    }
   ],
   "source": [
    "from sklearn.metrics import roc_curve\n",
    "fpr, tpr, thresholds = roc_curve(train_y, train_preds)\n",
    "\n",
    "# plot threshold vs precision\n",
    "no_skill_x = np.arange(0, 1, 0.001)\n",
    "no_skill_y = np.arange(0, 1, 0.001)\n",
    "\n",
    "figure, axes = plt.subplots(figsize = (15, 8))\n",
    "sns.lineplot(x = fpr, y = tpr, dashes = True, label = 'ROC Curve', axes = axes)\n",
    "axes.set_title('Receiver Operating Characteristic (ROC) Curve')\n",
    "axes.set_xlabel('False Positive Rate (FPR)')\n",
    "axes.set_ylabel('True Positive Rate')\n",
    "sns.lineplot(x = no_skill_x, y = no_skill_y, linestyle = '--', label = 'No Skill Classifier')\n",
    "axes.legend()"
   ]
  },
  {
   "cell_type": "markdown",
   "id": "868abf60-fb22-4865-be10-d2b15379eafc",
   "metadata": {
    "tags": []
   },
   "source": [
    "# Submit predictions on test set"
   ]
  },
  {
   "cell_type": "code",
   "execution_count": 125,
   "id": "e8f41153-16f5-4282-adf9-51b8b76c03f0",
   "metadata": {},
   "outputs": [
    {
     "name": "stderr",
     "output_type": "stream",
     "text": [
      "100%|███████████████████████████████████████████████████████████████████████████████████████████████████████████████████| 2.77k/2.77k [00:01<00:00, 1.81kB/s]\n"
     ]
    },
    {
     "name": "stdout",
     "output_type": "stream",
     "text": [
      "Warning: Your Kaggle API key is readable by other users on this system! To fix this, you can run 'chmod 600 /Users/danielsuarez-mash/.kaggle/kaggle.json'\n",
      "fileName               date                 description                                                           status    publicScore  privateScore  \n",
      "---------------------  -------------------  --------------------------------------------------------------------  --------  -----------  ------------  \n",
      "submission.csv         2022-11-19 23:47:38  Implemented voting classifier with multiple algorithms (hard voting)  pending                              \n",
      "submission.csv         2022-11-19 23:45:17  Implemented voting classifier with multiple algorithms                complete  0.78229                    \n",
      "submission.csv         2022-11-19 16:07:24  Added SVC algorithm                                                   complete  0.78229                    \n",
      "submission.csv         2022-11-17 23:22:19  Added title group feature                                             complete  0.77990                    \n",
      "submission.csv         2022-11-11 17:44:25  Added solo feature                                                    complete  0.77751                    \n",
      "submission.csv         2022-11-11 16:58:36  Added family_size feature                                             complete  0.77272                    \n",
      "submission.csv         2022-11-07 23:47:58  Used GridSearchCV for two models and their hyperparameters            complete  0.77033                    \n",
      "submission.csv         2022-11-07 23:47:14  Grouped Age                                                           complete  0.77033                    \n",
      "submission.csv         2022-11-05 18:48:34  Grouped Age                                                           complete  0.75837                    \n",
      "submission.csv         2022-11-05 18:48:08  standardised Age                                                      complete  0.75837                    \n",
      "submission.csv         2022-10-07 19:31:13  standardised Age                                                      complete  0.75598                    \n",
      "submission.csv         2022-10-06 22:49:14  standardised Age                                                      complete  0.75598                    \n",
      "submission.csv         2022-09-23 22:37:03  standardised Age                                                      complete  0.75598                    \n",
      "submission.csv         2022-09-23 22:36:33  titanic_submission                                                    complete  0.75598                    \n",
      "submission.csv         2022-09-23 21:37:48  titanic_submission                                                    complete  0.75837                    \n",
      "submission.csv         2022-09-23 21:25:52  titanic_submission                                                    error                                \n",
      "gender_submission.csv  2021-01-26 18:59:58                                                                        complete  0.76555                    \n"
     ]
    }
   ],
   "source": [
    "make_submission = True\n",
    "message = 'Implemented voting classifier with multiple algorithms (hard voting)'\n",
    "\n",
    "if make_submission == True:\n",
    "    \n",
    "    # # preprocess test set\n",
    "    # processor_test = PreProcessor(feature_dict = feature_dict)\n",
    "    # test_prepared, ohe_columns = processor_test.fit_transform(test)\n",
    "\n",
    "    # make predictions\n",
    "    preds_test = clf_pipeline.predict(test)\n",
    "\n",
    "    # put submission together\n",
    "    submission = np.c_[test['passengerid'].to_numpy(), preds_test]\n",
    "    submission_pandas = pd.DataFrame(submission[:,1], index = submission[:,0], columns = ['Survived'])\n",
    "    submission_pandas.index.name = 'PassengerId'\n",
    "    submission_pandas.to_csv('submission.csv')\n",
    "\n",
    "    # submit predictions\n",
    "    api.competition_submit(file_name = 'submission.csv', message = message, competition = 'titanic')\n",
    "\n",
    "    # see results\n",
    "    !kaggle competitions submissions titanic\n",
    "else:\n",
    "    \n",
    "    # see previous results\n",
    "    !kaggle competitions submissions titanic"
   ]
  },
  {
   "cell_type": "code",
   "execution_count": null,
   "id": "54d33c3f-c1c7-46b2-b387-a3b1bede04fe",
   "metadata": {},
   "outputs": [],
   "source": []
  }
 ],
 "metadata": {
  "kernelspec": {
   "display_name": "Python 3 (ipykernel)",
   "language": "python",
   "name": "python3"
  },
  "language_info": {
   "codemirror_mode": {
    "name": "ipython",
    "version": 3
   },
   "file_extension": ".py",
   "mimetype": "text/x-python",
   "name": "python",
   "nbconvert_exporter": "python",
   "pygments_lexer": "ipython3",
   "version": "3.9.12"
  },
  "toc-autonumbering": true,
  "toc-showmarkdowntxt": false
 },
 "nbformat": 4,
 "nbformat_minor": 5
}
