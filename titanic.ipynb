{
 "cells": [
  {
   "cell_type": "markdown",
   "id": "cad8d055-c719-41ee-89a5-e44d59f67aad",
   "metadata": {},
   "source": [
    "# Titanic\n",
    "\n",
    "This notebook is to explore the titanic dataset and produce a machine learning model that can predict which passengers survived or not depending on various features."
   ]
  },
  {
   "cell_type": "markdown",
   "id": "a4ca9f60-0b96-41d0-a866-ee0f77ffdb2d",
   "metadata": {
    "tags": []
   },
   "source": [
    "# Data preparation"
   ]
  },
  {
   "cell_type": "markdown",
   "id": "d4ad34aa-4324-4ad3-8707-6d3aed851e76",
   "metadata": {},
   "source": [
    "**Option 1:**"
   ]
  },
  {
   "cell_type": "code",
   "execution_count": 30,
   "id": "4fc7c8fb-264b-4776-a5f0-c88f24dbd1c1",
   "metadata": {},
   "outputs": [],
   "source": [
    "# import packages\n",
    "import pandas as pd\n",
    "import numpy as np\n",
    "import matplotlib.pyplot as plt\n",
    "import zipfile\n",
    "import seaborn as sn\n",
    "import sqlalchemy\n",
    "\n",
    "# set chart style\n",
    "plt.style.use('ggplot')\n",
    "\n",
    "# create database engine\n",
    "engine = sqlalchemy.create_engine(\n",
    "    url = 'postgresql://danielsuarez-mash@localhost/titanic_project?'\n",
    ")\n",
    "\n",
    "train = pd.read_sql('SELECT * FROM train', engine)\n",
    "test = pd.read_sql('SELECT * FROM test', engine)\n",
    "eg_submission = pd.read_sql('SELECT * FROM gender_submission', engine)"
   ]
  },
  {
   "cell_type": "markdown",
   "id": "0316e325-a24c-4365-a667-2ca2af1835c2",
   "metadata": {},
   "source": [
    "**Option 2:**"
   ]
  },
  {
   "cell_type": "code",
   "execution_count": 1,
   "id": "9b277c65-38a1-481f-8a01-070298086386",
   "metadata": {},
   "outputs": [
    {
     "name": "stdout",
     "output_type": "stream",
     "text": [
      "Warning: Your Kaggle API key is readable by other users on this system! To fix this, you can run 'chmod 600 /Users/danielsuarez-mash/.kaggle/kaggle.json'\n",
      "Warning: Your Kaggle API key is readable by other users on this system! To fix this, you can run 'chmod 600 /Users/danielsuarez-mash/.kaggle/kaggle.json'\n"
     ]
    }
   ],
   "source": [
    "from kaggle.api.kaggle_api_extended import KaggleApi\n",
    "api = KaggleApi()\n",
    "api.authenticate()\n",
    "\n",
    "# download competition data\n",
    "api.competition_download_files('titanic')\n",
    "\n",
    "# get datasets\n",
    "with zipfile.ZipFile(file = 'titanic.zip') as my_zip:\n",
    "    with my_zip.open(name = 'train.csv') as train_file:\n",
    "        train = pd.read_csv(train_file)\n",
    "    with my_zip.open(name = 'test.csv') as test_file:\n",
    "        test = pd.read_csv(test_file)\n",
    "    with my_zip.open(name = 'gender_submission.csv') as gender_sub:\n",
    "        eg_submission = pd.read_csv(gender_sub)"
   ]
  },
  {
   "cell_type": "markdown",
   "id": "6f6b6d9f-8308-4605-8dc9-8618a221753e",
   "metadata": {},
   "source": [
    "# Exploratory Data Analysis"
   ]
  },
  {
   "cell_type": "code",
   "execution_count": 31,
   "id": "1d628c01-15d3-4f5f-8d48-35b726635a6d",
   "metadata": {},
   "outputs": [
    {
     "data": {
      "text/html": [
       "<div>\n",
       "<style scoped>\n",
       "    .dataframe tbody tr th:only-of-type {\n",
       "        vertical-align: middle;\n",
       "    }\n",
       "\n",
       "    .dataframe tbody tr th {\n",
       "        vertical-align: top;\n",
       "    }\n",
       "\n",
       "    .dataframe thead th {\n",
       "        text-align: right;\n",
       "    }\n",
       "</style>\n",
       "<table border=\"1\" class=\"dataframe\">\n",
       "  <thead>\n",
       "    <tr style=\"text-align: right;\">\n",
       "      <th></th>\n",
       "      <th>passengerid</th>\n",
       "      <th>survived</th>\n",
       "      <th>pclass</th>\n",
       "      <th>name</th>\n",
       "      <th>sex</th>\n",
       "      <th>age</th>\n",
       "      <th>sibsp</th>\n",
       "      <th>parch</th>\n",
       "      <th>ticket</th>\n",
       "      <th>fare</th>\n",
       "      <th>cabin</th>\n",
       "      <th>embarked</th>\n",
       "    </tr>\n",
       "  </thead>\n",
       "  <tbody>\n",
       "    <tr>\n",
       "      <th>0</th>\n",
       "      <td>1</td>\n",
       "      <td>0</td>\n",
       "      <td>3</td>\n",
       "      <td>Braund, Mr. Owen Harris</td>\n",
       "      <td>male</td>\n",
       "      <td>22.0</td>\n",
       "      <td>1.0</td>\n",
       "      <td>0.0</td>\n",
       "      <td>A/5 21171</td>\n",
       "      <td>7.2500</td>\n",
       "      <td>None</td>\n",
       "      <td>S</td>\n",
       "    </tr>\n",
       "    <tr>\n",
       "      <th>1</th>\n",
       "      <td>2</td>\n",
       "      <td>1</td>\n",
       "      <td>1</td>\n",
       "      <td>Cumings, Mrs. John Bradley (Florence Briggs Th...</td>\n",
       "      <td>female</td>\n",
       "      <td>38.0</td>\n",
       "      <td>1.0</td>\n",
       "      <td>0.0</td>\n",
       "      <td>PC 17599</td>\n",
       "      <td>71.2833</td>\n",
       "      <td>C85</td>\n",
       "      <td>C</td>\n",
       "    </tr>\n",
       "    <tr>\n",
       "      <th>2</th>\n",
       "      <td>3</td>\n",
       "      <td>1</td>\n",
       "      <td>3</td>\n",
       "      <td>Heikkinen, Miss. Laina</td>\n",
       "      <td>female</td>\n",
       "      <td>26.0</td>\n",
       "      <td>0.0</td>\n",
       "      <td>0.0</td>\n",
       "      <td>STON/O2. 3101282</td>\n",
       "      <td>7.9250</td>\n",
       "      <td>None</td>\n",
       "      <td>S</td>\n",
       "    </tr>\n",
       "    <tr>\n",
       "      <th>3</th>\n",
       "      <td>4</td>\n",
       "      <td>1</td>\n",
       "      <td>1</td>\n",
       "      <td>Futrelle, Mrs. Jacques Heath (Lily May Peel)</td>\n",
       "      <td>female</td>\n",
       "      <td>35.0</td>\n",
       "      <td>1.0</td>\n",
       "      <td>0.0</td>\n",
       "      <td>113803</td>\n",
       "      <td>53.1000</td>\n",
       "      <td>C123</td>\n",
       "      <td>S</td>\n",
       "    </tr>\n",
       "    <tr>\n",
       "      <th>4</th>\n",
       "      <td>5</td>\n",
       "      <td>0</td>\n",
       "      <td>3</td>\n",
       "      <td>Allen, Mr. William Henry</td>\n",
       "      <td>male</td>\n",
       "      <td>35.0</td>\n",
       "      <td>0.0</td>\n",
       "      <td>0.0</td>\n",
       "      <td>373450</td>\n",
       "      <td>8.0500</td>\n",
       "      <td>None</td>\n",
       "      <td>S</td>\n",
       "    </tr>\n",
       "  </tbody>\n",
       "</table>\n",
       "</div>"
      ],
      "text/plain": [
       "   passengerid  survived  pclass  \\\n",
       "0            1         0       3   \n",
       "1            2         1       1   \n",
       "2            3         1       3   \n",
       "3            4         1       1   \n",
       "4            5         0       3   \n",
       "\n",
       "                                                name     sex   age  sibsp  \\\n",
       "0                            Braund, Mr. Owen Harris    male  22.0    1.0   \n",
       "1  Cumings, Mrs. John Bradley (Florence Briggs Th...  female  38.0    1.0   \n",
       "2                             Heikkinen, Miss. Laina  female  26.0    0.0   \n",
       "3       Futrelle, Mrs. Jacques Heath (Lily May Peel)  female  35.0    1.0   \n",
       "4                           Allen, Mr. William Henry    male  35.0    0.0   \n",
       "\n",
       "   parch            ticket     fare cabin embarked  \n",
       "0    0.0         A/5 21171   7.2500  None        S  \n",
       "1    0.0          PC 17599  71.2833   C85        C  \n",
       "2    0.0  STON/O2. 3101282   7.9250  None        S  \n",
       "3    0.0            113803  53.1000  C123        S  \n",
       "4    0.0            373450   8.0500  None        S  "
      ]
     },
     "execution_count": 31,
     "metadata": {},
     "output_type": "execute_result"
    }
   ],
   "source": [
    "train.head()"
   ]
  },
  {
   "cell_type": "code",
   "execution_count": 32,
   "id": "833c2c2c-be7e-4b74-910f-ba39a1ed199b",
   "metadata": {},
   "outputs": [
    {
     "name": "stdout",
     "output_type": "stream",
     "text": [
      "<class 'pandas.core.frame.DataFrame'>\n",
      "RangeIndex: 891 entries, 0 to 890\n",
      "Data columns (total 12 columns):\n",
      " #   Column       Non-Null Count  Dtype  \n",
      "---  ------       --------------  -----  \n",
      " 0   passengerid  891 non-null    int64  \n",
      " 1   survived     891 non-null    int64  \n",
      " 2   pclass       891 non-null    int64  \n",
      " 3   name         891 non-null    object \n",
      " 4   sex          891 non-null    object \n",
      " 5   age          714 non-null    float64\n",
      " 6   sibsp        891 non-null    float64\n",
      " 7   parch        891 non-null    float64\n",
      " 8   ticket       891 non-null    object \n",
      " 9   fare         891 non-null    float64\n",
      " 10  cabin        204 non-null    object \n",
      " 11  embarked     889 non-null    object \n",
      "dtypes: float64(4), int64(3), object(5)\n",
      "memory usage: 83.7+ KB\n"
     ]
    }
   ],
   "source": [
    "train.info()"
   ]
  },
  {
   "cell_type": "code",
   "execution_count": 33,
   "id": "da8db577-a649-46e0-8d9e-6c80f38430d3",
   "metadata": {},
   "outputs": [
    {
     "data": {
      "text/html": [
       "<div>\n",
       "<style scoped>\n",
       "    .dataframe tbody tr th:only-of-type {\n",
       "        vertical-align: middle;\n",
       "    }\n",
       "\n",
       "    .dataframe tbody tr th {\n",
       "        vertical-align: top;\n",
       "    }\n",
       "\n",
       "    .dataframe thead th {\n",
       "        text-align: right;\n",
       "    }\n",
       "</style>\n",
       "<table border=\"1\" class=\"dataframe\">\n",
       "  <thead>\n",
       "    <tr style=\"text-align: right;\">\n",
       "      <th></th>\n",
       "      <th>passengerid</th>\n",
       "      <th>survived</th>\n",
       "      <th>pclass</th>\n",
       "      <th>age</th>\n",
       "      <th>sibsp</th>\n",
       "      <th>parch</th>\n",
       "      <th>fare</th>\n",
       "    </tr>\n",
       "  </thead>\n",
       "  <tbody>\n",
       "    <tr>\n",
       "      <th>count</th>\n",
       "      <td>891.000000</td>\n",
       "      <td>891.000000</td>\n",
       "      <td>891.000000</td>\n",
       "      <td>714.000000</td>\n",
       "      <td>891.000000</td>\n",
       "      <td>891.000000</td>\n",
       "      <td>891.000000</td>\n",
       "    </tr>\n",
       "    <tr>\n",
       "      <th>mean</th>\n",
       "      <td>446.000000</td>\n",
       "      <td>0.383838</td>\n",
       "      <td>2.308642</td>\n",
       "      <td>29.699118</td>\n",
       "      <td>0.523008</td>\n",
       "      <td>0.381594</td>\n",
       "      <td>32.204208</td>\n",
       "    </tr>\n",
       "    <tr>\n",
       "      <th>std</th>\n",
       "      <td>257.353842</td>\n",
       "      <td>0.486592</td>\n",
       "      <td>0.836071</td>\n",
       "      <td>14.526497</td>\n",
       "      <td>1.102743</td>\n",
       "      <td>0.806057</td>\n",
       "      <td>49.693429</td>\n",
       "    </tr>\n",
       "    <tr>\n",
       "      <th>min</th>\n",
       "      <td>1.000000</td>\n",
       "      <td>0.000000</td>\n",
       "      <td>1.000000</td>\n",
       "      <td>0.420000</td>\n",
       "      <td>0.000000</td>\n",
       "      <td>0.000000</td>\n",
       "      <td>0.000000</td>\n",
       "    </tr>\n",
       "    <tr>\n",
       "      <th>25%</th>\n",
       "      <td>223.500000</td>\n",
       "      <td>0.000000</td>\n",
       "      <td>2.000000</td>\n",
       "      <td>20.125000</td>\n",
       "      <td>0.000000</td>\n",
       "      <td>0.000000</td>\n",
       "      <td>7.910400</td>\n",
       "    </tr>\n",
       "    <tr>\n",
       "      <th>50%</th>\n",
       "      <td>446.000000</td>\n",
       "      <td>0.000000</td>\n",
       "      <td>3.000000</td>\n",
       "      <td>28.000000</td>\n",
       "      <td>0.000000</td>\n",
       "      <td>0.000000</td>\n",
       "      <td>14.454200</td>\n",
       "    </tr>\n",
       "    <tr>\n",
       "      <th>75%</th>\n",
       "      <td>668.500000</td>\n",
       "      <td>1.000000</td>\n",
       "      <td>3.000000</td>\n",
       "      <td>38.000000</td>\n",
       "      <td>1.000000</td>\n",
       "      <td>0.000000</td>\n",
       "      <td>31.000000</td>\n",
       "    </tr>\n",
       "    <tr>\n",
       "      <th>max</th>\n",
       "      <td>891.000000</td>\n",
       "      <td>1.000000</td>\n",
       "      <td>3.000000</td>\n",
       "      <td>80.000000</td>\n",
       "      <td>8.000000</td>\n",
       "      <td>6.000000</td>\n",
       "      <td>512.329200</td>\n",
       "    </tr>\n",
       "  </tbody>\n",
       "</table>\n",
       "</div>"
      ],
      "text/plain": [
       "       passengerid    survived      pclass         age       sibsp  \\\n",
       "count   891.000000  891.000000  891.000000  714.000000  891.000000   \n",
       "mean    446.000000    0.383838    2.308642   29.699118    0.523008   \n",
       "std     257.353842    0.486592    0.836071   14.526497    1.102743   \n",
       "min       1.000000    0.000000    1.000000    0.420000    0.000000   \n",
       "25%     223.500000    0.000000    2.000000   20.125000    0.000000   \n",
       "50%     446.000000    0.000000    3.000000   28.000000    0.000000   \n",
       "75%     668.500000    1.000000    3.000000   38.000000    1.000000   \n",
       "max     891.000000    1.000000    3.000000   80.000000    8.000000   \n",
       "\n",
       "            parch        fare  \n",
       "count  891.000000  891.000000  \n",
       "mean     0.381594   32.204208  \n",
       "std      0.806057   49.693429  \n",
       "min      0.000000    0.000000  \n",
       "25%      0.000000    7.910400  \n",
       "50%      0.000000   14.454200  \n",
       "75%      0.000000   31.000000  \n",
       "max      6.000000  512.329200  "
      ]
     },
     "execution_count": 33,
     "metadata": {},
     "output_type": "execute_result"
    }
   ],
   "source": [
    "train.describe()"
   ]
  },
  {
   "cell_type": "code",
   "execution_count": 35,
   "id": "a4555624-968a-4364-bc95-de71eaf94ff1",
   "metadata": {},
   "outputs": [
    {
     "data": {
      "text/plain": [
       "Text(0.5, 0, 'Survived (0 false, 1 true)')"
      ]
     },
     "execution_count": 35,
     "metadata": {},
     "output_type": "execute_result"
    },
    {
     "data": {
      "image/png": "[encoded data removed]",
      "text/plain": [
       "<Figure size 648x504 with 1 Axes>"
      ]
     },
     "metadata": {},
     "output_type": "display_data"
    }
   ],
   "source": [
    "train['survived'].value_counts().plot(kind = 'bar', figsize = (9, 7))\n",
    "plt.title('Survived Breakdown')\n",
    "plt.ylabel('Number of Passengers')\n",
    "plt.xlabel('Survived (0 false, 1 true)')"
   ]
  },
  {
   "cell_type": "markdown",
   "id": "37c23e78-cc4e-4b30-997f-4b84e0d2e581",
   "metadata": {},
   "source": [
    "**Analysis steps**\n",
    "\n",
    "1. What columns are useful for helping to predict survival?\n",
    "2. What missing value strategy is best for each feature?\n",
    "3. What feature engineering is needed to help predict survival?"
   ]
  },
  {
   "cell_type": "markdown",
   "id": "67dcf86f-fa22-4a05-a238-8ca31bb20c17",
   "metadata": {},
   "source": [
    "## What columns are useful for helping to predict survival?"
   ]
  },
  {
   "cell_type": "markdown",
   "id": "0e307f67-8718-40ab-b467-c62e5aa43dfc",
   "metadata": {},
   "source": [
    "### Tableau Dashboard"
   ]
  },
  {
   "cell_type": "code",
   "execution_count": 36,
   "id": "455f904c-d327-4232-8b94-328f38e7212e",
   "metadata": {},
   "outputs": [
    {
     "data": {
      "text/html": [
       "<div class='tableauPlaceholder' id='viz1664994740575' style='position: relative'><noscript><a href='#'><img alt=' ' src='https:&#47;&#47;public.tableau.com&#47;static&#47;images&#47;ti&#47;titanic_dashboard_16640445565300&#47;AgeSexvsSurvived_1&#47;1_rss.png' style='border: none' /></a></noscript><object class='tableauViz'  style='display:none;'><param name='host_url' value='https%3A%2F%2Fpublic.tableau.com%2F' /> <param name='embed_code_version' value='3' /> <param name='site_root' value='' /><param name='name' value='titanic_dashboard_16640445565300&#47;AgeSexvsSurvived_1' /><param name='tabs' value='yes' /><param name='toolbar' value='yes' /><param name='static_image' value='https:&#47;&#47;public.tableau.com&#47;static&#47;images&#47;ti&#47;titanic_dashboard_16640445565300&#47;AgeSexvsSurvived_1&#47;1.png' /> <param name='animate_transition' value='yes' /><param name='display_static_image' value='yes' /><param name='display_spinner' value='yes' /><param name='display_overlay' value='yes' /><param name='display_count' value='yes' /><param name='language' value='en-GB' /></object></div>                <script type='text/javascript'>                    var divElement = document.getElementById('viz1664994740575');                    var vizElement = divElement.getElementsByTagName('object')[0];                    vizElement.style.width='100%';vizElement.style.height=(divElement.offsetWidth*0.75)+'px';                    var scriptElement = document.createElement('script');                    scriptElement.src = 'https://public.tableau.com/javascripts/api/viz_v1.js';                    vizElement.parentNode.insertBefore(scriptElement, vizElement);                </script>\n"
      ],
      "text/plain": [
       "<IPython.core.display.HTML object>"
      ]
     },
     "metadata": {},
     "output_type": "display_data"
    }
   ],
   "source": [
    "%%html\n",
    "<div class='tableauPlaceholder' id='viz1664994740575' style='position: relative'><noscript><a href='#'><img alt=' ' src='https:&#47;&#47;public.tableau.com&#47;static&#47;images&#47;ti&#47;titanic_dashboard_16640445565300&#47;AgeSexvsSurvived_1&#47;1_rss.png' style='border: none' /></a></noscript><object class='tableauViz'  style='display:none;'><param name='host_url' value='https%3A%2F%2Fpublic.tableau.com%2F' /> <param name='embed_code_version' value='3' /> <param name='site_root' value='' /><param name='name' value='titanic_dashboard_16640445565300&#47;AgeSexvsSurvived_1' /><param name='tabs' value='yes' /><param name='toolbar' value='yes' /><param name='static_image' value='https:&#47;&#47;public.tableau.com&#47;static&#47;images&#47;ti&#47;titanic_dashboard_16640445565300&#47;AgeSexvsSurvived_1&#47;1.png' /> <param name='animate_transition' value='yes' /><param name='display_static_image' value='yes' /><param name='display_spinner' value='yes' /><param name='display_overlay' value='yes' /><param name='display_count' value='yes' /><param name='language' value='en-GB' /></object></div>                <script type='text/javascript'>                    var divElement = document.getElementById('viz1664994740575');                    var vizElement = divElement.getElementsByTagName('object')[0];                    vizElement.style.width='100%';vizElement.style.height=(divElement.offsetWidth*0.75)+'px';                    var scriptElement = document.createElement('script');                    scriptElement.src = 'https://public.tableau.com/javascripts/api/viz_v1.js';                    vizElement.parentNode.insertBefore(scriptElement, vizElement);                </script>"
   ]
  },
  {
   "cell_type": "markdown",
   "id": "b74b2e39-3434-42a3-a5dd-b023a07b2983",
   "metadata": {
    "tags": []
   },
   "source": [
    "### Pclass\n",
    "\n",
    "From the chart below, we can see a clear rise in the survival rate with Pclass. This might indicate that wealthier passengers with a 1st class ticket were prioritised in some way during the evacuation. However, there isn't enough evidence to suggest causality."
   ]
  },
  {
   "cell_type": "code",
   "execution_count": 38,
   "id": "d3afc02e-446e-423a-b97d-7d6d4c4e5ad7",
   "metadata": {},
   "outputs": [
    {
     "data": {
      "text/plain": [
       "Text(0, 0.5, 'Percentage (%)')"
      ]
     },
     "execution_count": 38,
     "metadata": {},
     "output_type": "execute_result"
    },
    {
     "data": {
      "image/png": "[encoded data removed]",
      "text/plain": [
       "<Figure size 648x504 with 1 Axes>"
      ]
     },
     "metadata": {},
     "output_type": "display_data"
    }
   ],
   "source": [
    "pclass_pct = (train.groupby(['pclass', 'survived']).passengerid.count() / train.groupby(['pclass', 'survived']).passengerid.count().unstack().sum(axis = 'columns'))*100\n",
    "pclass_pct.unstack().plot(kind = 'bar', figsize = (9,7))\n",
    "plt.ylim(bottom = 0, top = 100)\n",
    "plt.ylabel('Percentage (%)')"
   ]
  },
  {
   "cell_type": "markdown",
   "id": "8c9a9c8f-ef5f-4b79-a3bd-5a30e55266fb",
   "metadata": {},
   "source": [
    "### Sex\n",
    "\n",
    "The chart below shows us that a much higher proportion of females survived the disaster. This is in line with reports that females were prioritised during the evacuation."
   ]
  },
  {
   "cell_type": "code",
   "execution_count": 40,
   "id": "e2f99bfd-6f09-44a2-ab67-42d8ed70590f",
   "metadata": {},
   "outputs": [
    {
     "data": {
      "text/plain": [
       "Text(0, 0.5, 'Percentage (%)')"
      ]
     },
     "execution_count": 40,
     "metadata": {},
     "output_type": "execute_result"
    },
    {
     "data": {
      "image/png": "[encoded data removed]",
      "text/plain": [
       "<Figure size 648x504 with 1 Axes>"
      ]
     },
     "metadata": {},
     "output_type": "display_data"
    }
   ],
   "source": [
    "sex_pct = (train.groupby(['sex', 'survived']).passengerid.count() / train.groupby(['sex', 'survived']).passengerid.count().unstack().sum(axis = 'columns'))*100\n",
    "sex_pct.unstack().plot(kind = 'bar', figsize = (9,7))\n",
    "plt.ylim(bottom = 0, top = 100)\n",
    "plt.ylabel('Percentage (%)')"
   ]
  },
  {
   "cell_type": "markdown",
   "id": "0cf1c4e3-dd2f-4d6d-aa12-cd31261aa020",
   "metadata": {
    "tags": []
   },
   "source": [
    "### Age\n",
    "\n",
    "Below we can see that young children were prioritised. Those aged between 15 and 30 were the least likely to survive. And the chance of survival gradually increases with age from there. From this, one could suggest young people were left behind as they were the strongest and could perhaps wait for help for longer. But this help probably didn't arrive, leading to their death."
   ]
  },
  {
   "cell_type": "code",
   "execution_count": 41,
   "id": "b4a69ea9-2b57-4e53-bb3c-7627ca42285c",
   "metadata": {},
   "outputs": [
    {
     "data": {
      "text/plain": [
       "<AxesSubplot:xlabel='age', ylabel='Count'>"
      ]
     },
     "execution_count": 41,
     "metadata": {},
     "output_type": "execute_result"
    },
    {
     "data": {
      "image/png": "[encoded data removed]",
      "text/plain": [
       "<Figure size 648x504 with 1 Axes>"
      ]
     },
     "metadata": {},
     "output_type": "display_data"
    }
   ],
   "source": [
    "figure, axes = plt.subplots(figsize = (9, 7))\n",
    "\n",
    "sn.histplot(data = train, x = 'age', hue = 'survived', bins = 40, ax = axes)"
   ]
  },
  {
   "cell_type": "markdown",
   "id": "d2c07d3e-bb57-4194-ae47-0253c1571425",
   "metadata": {},
   "source": [
    "### SibSp - Number of siblings/spouses\n",
    "\n",
    "From the chart below, most passengers had either 0 or 1 spouse/sibling. Those with 1 spouse/sibling were the most likely to survive. This might be because couples were harder to seperate. Or maybe those without siblings or spouses formed a lot of the young generation which suffered the worst survival rate.\n",
    "\n",
    "Questions:\n",
    "\n",
    "- What is the age distribution of passengers with SibSp = 0 or 1?"
   ]
  },
  {
   "cell_type": "code",
   "execution_count": 43,
   "id": "529e9640-0f37-42a0-9c8d-7712f20119e0",
   "metadata": {},
   "outputs": [
    {
     "data": {
      "text/plain": [
       "Text(0, 0.5, 'Percentage (%)')"
      ]
     },
     "execution_count": 43,
     "metadata": {},
     "output_type": "execute_result"
    },
    {
     "data": {
      "image/png": "[encoded data removed]",
      "text/plain": [
       "<Figure size 1440x504 with 2 Axes>"
      ]
     },
     "metadata": {},
     "output_type": "display_data"
    }
   ],
   "source": [
    "figure, (ax1, ax2) = plt.subplots(1, 2, figsize = (20, 7))\n",
    "\n",
    "train.groupby(['sibsp', 'survived']).passengerid.count().unstack().plot(kind = 'bar', ax = ax1)\n",
    "ax1.set_ylabel('Passenger count')\n",
    "\n",
    "sibsp_pct = (train.groupby(['sibsp', 'survived']).passengerid.count() / train.groupby(['sibsp', 'survived']).passengerid.count().unstack().sum(axis = 'columns'))*100\n",
    "sibsp_pct.unstack().plot(kind = 'bar', ax = ax2)\n",
    "ax2.set_ylabel('Percentage (%)')"
   ]
  },
  {
   "cell_type": "markdown",
   "id": "2e4bf2c4-d3b9-4491-9565-9d0ca5bba7d1",
   "metadata": {},
   "source": [
    "#### What is the age distribution of passengers with SibSp = 0 or 1?\n",
    "\n",
    "The charts below show us that many of the passengers without a spouse or sibling were of the younger generation which suffered the worst survival rate. "
   ]
  },
  {
   "cell_type": "code",
   "execution_count": 44,
   "id": "12d01c23-0595-4988-8592-aa5baad6c8a2",
   "metadata": {},
   "outputs": [
    {
     "data": {
      "text/plain": [
       "(0.0, 150.0)"
      ]
     },
     "execution_count": 44,
     "metadata": {},
     "output_type": "execute_result"
    },
    {
     "data": {
      "image/png": "[encoded data removed]",
      "text/plain": [
       "<Figure size 1440x504 with 2 Axes>"
      ]
     },
     "metadata": {},
     "output_type": "display_data"
    }
   ],
   "source": [
    "sibsp_0 = train[train['sibsp'] == 0]\n",
    "sibsp_1 = train[train['sibsp'] == 1]\n",
    "\n",
    "figure, (ax1, ax2) = plt.subplots(1, 2, figsize = (20, 7))\n",
    "sibsp_0['age'].hist(ax = ax1)\n",
    "sibsp_1['age'].hist(ax = ax2)\n",
    "\n",
    "ax1.set_title('Passengers with SibSp = 0')\n",
    "ax2.set_title('Passengers with SibSp = 1')\n",
    "\n",
    "ax1.set_ylim(top = 150)\n",
    "ax2.set_ylim(top = 150)"
   ]
  },
  {
   "cell_type": "markdown",
   "id": "67d335b3-862a-43a0-8c69-33301c498fbf",
   "metadata": {
    "tags": []
   },
   "source": [
    "### Parch - number of parents/children\n",
    "\n",
    "Below we can see that those without a parent or child suffered the worst survival rate. Again, this may be because of the amount of young people who were without their parents or children. Those with a parent or child had around a 50/50 chance of survival which is possibly because children were seperated from their parents. "
   ]
  },
  {
   "cell_type": "code",
   "execution_count": 45,
   "id": "ad0eeb2d-c172-4cad-a7ca-7308b4ed2a77",
   "metadata": {},
   "outputs": [
    {
     "data": {
      "text/plain": [
       "<AxesSubplot:xlabel='parch'>"
      ]
     },
     "execution_count": 45,
     "metadata": {},
     "output_type": "execute_result"
    },
    {
     "data": {
      "image/png": "[encoded data removed]",
      "text/plain": [
       "<Figure size 648x504 with 1 Axes>"
      ]
     },
     "metadata": {},
     "output_type": "display_data"
    }
   ],
   "source": [
    "train.groupby(['parch', 'survived']).passengerid.count().unstack().plot(kind = 'bar', figsize = (9,7))"
   ]
  },
  {
   "cell_type": "markdown",
   "id": "c12ecff3-3fc2-4254-a9a6-d5fc157a2c61",
   "metadata": {},
   "source": [
    "#### What is the age distribution for passengers with and without parents/children?\n",
    "\n",
    "The graphs below confirm that many young people aged between 20 and 45 were without parents or children, and we know that they suffered the worst survival rate. The graph on the right shows that young children make up a large proportion of passengers with parents/children and we know they enjoyed the best survival rate."
   ]
  },
  {
   "cell_type": "code",
   "execution_count": 46,
   "id": "639d472c-aaee-4821-9ad4-b5e3577bf57f",
   "metadata": {},
   "outputs": [
    {
     "data": {
      "text/plain": [
       "(0.0, 150.0)"
      ]
     },
     "execution_count": 46,
     "metadata": {},
     "output_type": "execute_result"
    },
    {
     "data": {
      "image/png": "[encoded data removed]",
      "text/plain": [
       "<Figure size 1440x504 with 2 Axes>"
      ]
     },
     "metadata": {},
     "output_type": "display_data"
    }
   ],
   "source": [
    "parch_0 = train[train['parch'] == 0]\n",
    "parch_1_2 = train[train['parch'].isin([1,2])]\n",
    "\n",
    "figure, (ax1, ax2) = plt.subplots(1, 2, figsize = (20, 7))\n",
    "parch_0['age'].hist(ax = ax1)\n",
    "parch_1_2['age'].hist(ax = ax2)\n",
    "\n",
    "ax1.set_title('Passengers with Parch = 0')\n",
    "ax2.set_title('Passengers with Parch = 1 or 2')\n",
    "\n",
    "ax1.set_ylim(top = 150)\n",
    "ax2.set_ylim(top = 150)"
   ]
  },
  {
   "cell_type": "markdown",
   "id": "92c956a1-52c4-46b4-8a82-a5cafb532cff",
   "metadata": {},
   "source": [
    "# Model building\n",
    "\n",
    "To keep things simple for now, we will build a simple maching learning model with the few features we've looked at so far.\n",
    "\n",
    "The only concerns I have are that some of these features are correlated with one another. As we've seen, age is linked with the number of siblings/spouses and parents/children one has. How should this be dealt with? \n",
    "\n",
    "In the meantime, we will use the following features:\n",
    "\n",
    "- Pclass\n",
    "    - no further pre-processing required\n",
    "- Sex\n",
    "    - needs to be converted to numerical\n",
    "- Age\n",
    "    - no pre-processing required"
   ]
  },
  {
   "cell_type": "markdown",
   "id": "aa7fe97e-3124-4e79-8ebc-11b082d4f6bd",
   "metadata": {},
   "source": [
    "## Pre-processing"
   ]
  },
  {
   "cell_type": "markdown",
   "id": "0c6e3412-4e11-400b-a469-37f492cec8e2",
   "metadata": {},
   "source": [
    "**Missing Values** \n",
    "\n",
    "For now, only Age has missing values. It contains 714/891 values which should be sufficient enough for a machine learning model. We can try to implement imputation later on to see if the model improves. We will therefore drop rows with missing Age values."
   ]
  },
  {
   "cell_type": "code",
   "execution_count": 47,
   "id": "1bf0903a-5503-4250-b782-a150320d04ae",
   "metadata": {},
   "outputs": [],
   "source": [
    "# split the target variable\n",
    "train_y = train['survived']\n",
    "train_X = train.drop(columns = 'survived')\n",
    "\n",
    "# put features in a dictionary\n",
    "feature_dict = {'pclass': 0, 'age': 1, 'sex': 2}"
   ]
  },
  {
   "cell_type": "code",
   "execution_count": 48,
   "id": "3db2d627-6516-473e-899a-3e5da2a02248",
   "metadata": {},
   "outputs": [],
   "source": [
    "# build class to filter attributes\n",
    "from sklearn.base import BaseEstimator, TransformerMixin\n",
    "from sklearn.pipeline import Pipeline\n",
    "from sklearn.impute import SimpleImputer\n",
    "from sklearn.preprocessing import OrdinalEncoder\n",
    "from sklearn.compose import ColumnTransformer\n",
    "from sklearn.preprocessing import StandardScaler\n",
    "\n",
    "\n",
    "class PreProcessor(BaseEstimator, TransformerMixin):\n",
    "    def __init__(self, feature_dict):\n",
    "        \n",
    "        self.feature_dict = feature_dict\n",
    "        \n",
    "    def fit(self, X, y=None):\n",
    "        return self\n",
    "    \n",
    "    def transform(self, X):\n",
    "        \n",
    "        # filter data using feature dictionary\n",
    "        X_reduced = X[list(self.feature_dict.keys())]\n",
    "        \n",
    "        # convert to numpy array\n",
    "        X_reduced = X_reduced.to_numpy()\n",
    "        \n",
    "        # impute Age feature\n",
    "        age_imputer = SimpleImputer(strategy = 'mean')\n",
    "        age_imputed = age_imputer.fit_transform(X_reduced[:, self.feature_dict['age']].reshape(-1,1))    # shape = (891 samples, 1 feature)\n",
    "        X_reduced[:, self.feature_dict['age']] = age_imputed.reshape(1,-1)    # replace Age column with imputed Age column        \n",
    "        \n",
    "        # scale Age feature\n",
    "        age_scaler = StandardScaler()\n",
    "        age_scaled = age_scaler.fit_transform(X_reduced[:, self.feature_dict['age']].reshape(-1, 1))\n",
    "        X_reduced[:, self.feature_dict['age']] = age_scaled.reshape(1, -1)\n",
    "        \n",
    "        # ordinal encode Sex feature\n",
    "        sex_encoder = OrdinalEncoder()\n",
    "        sex_encoded = sex_encoder.fit_transform(X_reduced[:, self.feature_dict['sex']].reshape(-1,1))    # shape = (891 samples, 1 feature)\n",
    "        X_reduced[:, self.feature_dict['sex']] = sex_encoded.reshape(1,-1)    # replace Age column with imputed Age column\n",
    "        \n",
    "        return X_reduced"
   ]
  },
  {
   "cell_type": "code",
   "execution_count": 49,
   "id": "aa9c3b2f-5149-45dc-bb4b-144a83a95eea",
   "metadata": {},
   "outputs": [
    {
     "data": {
      "text/plain": [
       "array([[3, -0.5924805998028931, 1.0],\n",
       "       [1, 0.6387890120425208, 0.0],\n",
       "       [3, -0.2846631968415396, 0.0],\n",
       "       ...,\n",
       "       [3, 0.0, 0.0],\n",
       "       [1, -0.2846631968415396, 1.0],\n",
       "       [3, 0.17706290760049057, 1.0]], dtype=object)"
      ]
     },
     "execution_count": 49,
     "metadata": {},
     "output_type": "execute_result"
    }
   ],
   "source": [
    "processor_train = PreProcessor(feature_dict = feature_dict)\n",
    "train_prepared = processor_train.fit_transform(train_X)\n",
    "train_prepared"
   ]
  },
  {
   "cell_type": "markdown",
   "id": "98f230b2-4791-47df-8b4f-1bf4bf6b7941",
   "metadata": {},
   "source": [
    "## Model selection\n",
    "\n",
    "For now, let's implement a logistic regression model."
   ]
  },
  {
   "cell_type": "markdown",
   "id": "e58f9461-09a6-4646-8c9c-0189fbcf4564",
   "metadata": {},
   "source": [
    "## Fitting a model"
   ]
  },
  {
   "cell_type": "code",
   "execution_count": 50,
   "id": "faf228c4-5b59-4f23-b74f-d16b4781b616",
   "metadata": {},
   "outputs": [
    {
     "data": {
      "text/plain": [
       "LogisticRegression()"
      ]
     },
     "execution_count": 50,
     "metadata": {},
     "output_type": "execute_result"
    }
   ],
   "source": [
    "from sklearn.linear_model import LogisticRegression\n",
    "\n",
    "# create algorithm instance\n",
    "log_reg = LogisticRegression()\n",
    "\n",
    "# train the model on the data\n",
    "log_reg.fit(train_prepared, train_y)"
   ]
  },
  {
   "cell_type": "code",
   "execution_count": 51,
   "id": "6c88bc12-e7f0-4269-b091-efdf5a83b34d",
   "metadata": {},
   "outputs": [
    {
     "name": "stdout",
     "output_type": "stream",
     "text": [
      "Predictions for first 20 passengers are: [0 1 1 1 0 0 0 0 1 1 1 1 0 0 1 1 0 0 1 1]\n",
      "True labels for first 20 passengers are: [0 1 1 1 0 0 0 0 1 1 1 1 0 0 0 1 0 1 0 1]\n"
     ]
    }
   ],
   "source": [
    "# look at examples\n",
    "num_examples = 20\n",
    "some_data = train_prepared[:num_examples]\n",
    "example_preds = log_reg.predict(some_data)\n",
    "\n",
    "print('Predictions for first {} passengers are:'.format(num_examples), example_preds)\n",
    "print('True labels for first {} passengers are:'.format(num_examples), train_y[:num_examples].to_numpy())"
   ]
  },
  {
   "cell_type": "markdown",
   "id": "0b60b21e-f7bf-4c25-8298-9b776a4669bf",
   "metadata": {},
   "source": [
    "## Model evaluation\n",
    "\n",
    "We have a working model. How does it perform? Let's start off with accuracy as our performance metric. Accuracy means the fraction of predictions which were correct."
   ]
  },
  {
   "cell_type": "code",
   "execution_count": 52,
   "id": "a32083c8-3a0c-46f7-91cc-e17db58f09fd",
   "metadata": {},
   "outputs": [
    {
     "data": {
      "text/plain": [
       "array([0.78212291, 0.78651685, 0.79775281, 0.7752809 , 0.79775281])"
      ]
     },
     "execution_count": 52,
     "metadata": {},
     "output_type": "execute_result"
    }
   ],
   "source": [
    "from sklearn.model_selection import cross_val_score\n",
    "\n",
    "# cross validation\n",
    "accuracy_scores = cross_val_score(estimator = log_reg, \n",
    "                                  X = train_prepared, \n",
    "                                  y = train_y, \n",
    "                                  scoring = 'accuracy',\n",
    "                                  cv = 5)\n",
    "accuracy_scores"
   ]
  },
  {
   "cell_type": "markdown",
   "id": "868abf60-fb22-4865-be10-d2b15379eafc",
   "metadata": {
    "tags": []
   },
   "source": [
    "# Submit predictions on test set"
   ]
  },
  {
   "cell_type": "code",
   "execution_count": 53,
   "id": "e8f41153-16f5-4282-adf9-51b8b76c03f0",
   "metadata": {},
   "outputs": [
    {
     "name": "stderr",
     "output_type": "stream",
     "text": [
      "100%|█████████████████████████████████████████████████████████████████████████████████████████████████████████████████████████████████████████| 2.77k/2.77k [00:01<00:00, 1.85kB/s]\n"
     ]
    },
    {
     "name": "stdout",
     "output_type": "stream",
     "text": [
      "Warning: Your Kaggle API key is readable by other users on this system! To fix this, you can run 'chmod 600 /Users/danielsuarez-mash/.kaggle/kaggle.json'\n",
      "fileName               date                 description         status    publicScore  privateScore  \n",
      "---------------------  -------------------  ------------------  --------  -----------  ------------  \n",
      "submission.csv         2022-10-06 22:49:14  standardised Age    pending                              \n",
      "submission.csv         2022-09-23 22:37:03  standardised Age    complete  0.75598                    \n",
      "submission.csv         2022-09-23 22:36:33  titanic_submission  complete  0.75598                    \n",
      "submission.csv         2022-09-23 21:37:48  titanic_submission  complete  0.75837                    \n",
      "submission.csv         2022-09-23 21:25:52  titanic_submission  error                                \n",
      "gender_submission.csv  2021-01-26 18:59:58                      complete  0.76555                    \n"
     ]
    }
   ],
   "source": [
    "make_submission = False\n",
    "\n",
    "if make_submission == True:\n",
    "    # preprocess test set\n",
    "    processor_test = PreProcessor(feature_dict = feature_dict)\n",
    "    test_prepared = processor_test.fit_transform(test)\n",
    "\n",
    "    # make predictions\n",
    "    preds_test = log_reg.predict(test_prepared)\n",
    "\n",
    "    # put submission together\n",
    "    submission = np.c_[test['passengerId'].to_numpy(), preds_test]\n",
    "    submission_pandas = pd.DataFrame(submission[:,1], index = submission[:,0], columns = ['Survived'])\n",
    "    submission_pandas.index.name = 'PassengerId'\n",
    "    submission_pandas.to_csv('submission.csv')\n",
    "\n",
    "# submit predictions\n",
    "api.competition_submit(file_name = 'submission.csv', message = 'standardised Age', competition = 'titanic')\n",
    "\n",
    "# see results\n",
    "!kaggle competitions submissions titanic"
   ]
  }
 ],
 "metadata": {
  "kernelspec": {
   "display_name": "Python 3 (ipykernel)",
   "language": "python",
   "name": "python3"
  },
  "language_info": {
   "codemirror_mode": {
    "name": "ipython",
    "version": 3
   },
   "file_extension": ".py",
   "mimetype": "text/x-python",
   "name": "python",
   "nbconvert_exporter": "python",
   "pygments_lexer": "ipython3",
   "version": "3.9.12"
  },
  "toc-autonumbering": true,
  "toc-showmarkdowntxt": false
 },
 "nbformat": 4,
 "nbformat_minor": 5
}
